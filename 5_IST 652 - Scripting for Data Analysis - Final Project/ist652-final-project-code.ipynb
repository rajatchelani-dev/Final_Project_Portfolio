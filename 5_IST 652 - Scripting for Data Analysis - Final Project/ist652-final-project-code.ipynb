{
 "cells": [
  {
   "cell_type": "code",
   "execution_count": 1,
   "id": "76f81dc1",
   "metadata": {
    "_cell_guid": "b1076dfc-b9ad-4769-8c92-a6c4dae69d19",
    "_uuid": "8f2839f25d086af736a60e9eeb907d3b93b6e0e5",
    "execution": {
     "iopub.execute_input": "2023-12-18T08:38:58.457186Z",
     "iopub.status.busy": "2023-12-18T08:38:58.456660Z",
     "iopub.status.idle": "2023-12-18T08:39:01.060732Z",
     "shell.execute_reply": "2023-12-18T08:39:01.059733Z"
    },
    "papermill": {
     "duration": 2.619412,
     "end_time": "2023-12-18T08:39:01.063234",
     "exception": false,
     "start_time": "2023-12-18T08:38:58.443822",
     "status": "completed"
    },
    "tags": []
   },
   "outputs": [],
   "source": [
    "#Importing the required libraries\n",
    "\n",
    "import numpy as np \n",
    "import pandas as pd \n",
    "import plotly.express as px\n",
    "from scipy.stats import chi2_contingency\n",
    "import scipy.stats as stats\n",
    "import matplotlib.pyplot as plt\n",
    "import seaborn as sns\n",
    "import gc"
   ]
  },
  {
   "cell_type": "code",
   "execution_count": 2,
   "id": "6945034c",
   "metadata": {
    "execution": {
     "iopub.execute_input": "2023-12-18T08:39:01.088092Z",
     "iopub.status.busy": "2023-12-18T08:39:01.086829Z",
     "iopub.status.idle": "2023-12-18T08:39:02.293295Z",
     "shell.execute_reply": "2023-12-18T08:39:02.292192Z"
    },
    "papermill": {
     "duration": 1.222193,
     "end_time": "2023-12-18T08:39:02.296398",
     "exception": false,
     "start_time": "2023-12-18T08:39:01.074205",
     "status": "completed"
    },
    "tags": []
   },
   "outputs": [],
   "source": [
    "#Reading the articles data set and storing in data frame containing article information\n",
    "\n",
    "df = pd.read_csv('/kaggle/input/h-and-m-personalized-fashion-recommendations/articles.csv')"
   ]
  },
  {
   "cell_type": "code",
   "execution_count": 3,
   "id": "59b9cff8",
   "metadata": {
    "execution": {
     "iopub.execute_input": "2023-12-18T08:39:02.319853Z",
     "iopub.status.busy": "2023-12-18T08:39:02.319366Z",
     "iopub.status.idle": "2023-12-18T08:39:02.405331Z",
     "shell.execute_reply": "2023-12-18T08:39:02.402925Z"
    },
    "papermill": {
     "duration": 0.101263,
     "end_time": "2023-12-18T08:39:02.408455",
     "exception": false,
     "start_time": "2023-12-18T08:39:02.307192",
     "status": "completed"
    },
    "tags": []
   },
   "outputs": [
    {
     "name": "stdout",
     "output_type": "stream",
     "text": [
      "<class 'pandas.core.frame.DataFrame'>\n",
      "RangeIndex: 105542 entries, 0 to 105541\n",
      "Data columns (total 25 columns):\n",
      " #   Column                        Non-Null Count   Dtype \n",
      "---  ------                        --------------   ----- \n",
      " 0   article_id                    105542 non-null  int64 \n",
      " 1   product_code                  105542 non-null  int64 \n",
      " 2   prod_name                     105542 non-null  object\n",
      " 3   product_type_no               105542 non-null  int64 \n",
      " 4   product_type_name             105542 non-null  object\n",
      " 5   product_group_name            105542 non-null  object\n",
      " 6   graphical_appearance_no       105542 non-null  int64 \n",
      " 7   graphical_appearance_name     105542 non-null  object\n",
      " 8   colour_group_code             105542 non-null  int64 \n",
      " 9   colour_group_name             105542 non-null  object\n",
      " 10  perceived_colour_value_id     105542 non-null  int64 \n",
      " 11  perceived_colour_value_name   105542 non-null  object\n",
      " 12  perceived_colour_master_id    105542 non-null  int64 \n",
      " 13  perceived_colour_master_name  105542 non-null  object\n",
      " 14  department_no                 105542 non-null  int64 \n",
      " 15  department_name               105542 non-null  object\n",
      " 16  index_code                    105542 non-null  object\n",
      " 17  index_name                    105542 non-null  object\n",
      " 18  index_group_no                105542 non-null  int64 \n",
      " 19  index_group_name              105542 non-null  object\n",
      " 20  section_no                    105542 non-null  int64 \n",
      " 21  section_name                  105542 non-null  object\n",
      " 22  garment_group_no              105542 non-null  int64 \n",
      " 23  garment_group_name            105542 non-null  object\n",
      " 24  detail_desc                   105126 non-null  object\n",
      "dtypes: int64(11), object(14)\n",
      "memory usage: 20.1+ MB\n"
     ]
    }
   ],
   "source": [
    "#Displaying basic information about the DataFrame 'df' \n",
    "\n",
    "df.info()"
   ]
  },
  {
   "cell_type": "code",
   "execution_count": 4,
   "id": "3f40f550",
   "metadata": {
    "execution": {
     "iopub.execute_input": "2023-12-18T08:39:02.434535Z",
     "iopub.status.busy": "2023-12-18T08:39:02.434176Z",
     "iopub.status.idle": "2023-12-18T08:39:08.599022Z",
     "shell.execute_reply": "2023-12-18T08:39:08.597688Z"
    },
    "papermill": {
     "duration": 6.18275,
     "end_time": "2023-12-18T08:39:08.602794",
     "exception": false,
     "start_time": "2023-12-18T08:39:02.420044",
     "status": "completed"
    },
    "tags": []
   },
   "outputs": [],
   "source": [
    "#Reading the customers data set and storing in data frame containing customer information\n",
    "\n",
    "df_customers = pd.read_csv('/kaggle/input/h-and-m-personalized-fashion-recommendations/customers.csv')"
   ]
  },
  {
   "cell_type": "code",
   "execution_count": 5,
   "id": "bbc7eda6",
   "metadata": {
    "execution": {
     "iopub.execute_input": "2023-12-18T08:39:08.629047Z",
     "iopub.status.busy": "2023-12-18T08:39:08.628631Z",
     "iopub.status.idle": "2023-12-18T08:39:08.847798Z",
     "shell.execute_reply": "2023-12-18T08:39:08.845929Z"
    },
    "papermill": {
     "duration": 0.236184,
     "end_time": "2023-12-18T08:39:08.850364",
     "exception": false,
     "start_time": "2023-12-18T08:39:08.614180",
     "status": "completed"
    },
    "tags": []
   },
   "outputs": [
    {
     "name": "stdout",
     "output_type": "stream",
     "text": [
      "<class 'pandas.core.frame.DataFrame'>\n",
      "RangeIndex: 1371980 entries, 0 to 1371979\n",
      "Data columns (total 7 columns):\n",
      " #   Column                  Non-Null Count    Dtype  \n",
      "---  ------                  --------------    -----  \n",
      " 0   customer_id             1371980 non-null  object \n",
      " 1   FN                      476930 non-null   float64\n",
      " 2   Active                  464404 non-null   float64\n",
      " 3   club_member_status      1365918 non-null  object \n",
      " 4   fashion_news_frequency  1355969 non-null  object \n",
      " 5   age                     1356119 non-null  float64\n",
      " 6   postal_code             1371980 non-null  object \n",
      "dtypes: float64(3), object(4)\n",
      "memory usage: 73.3+ MB\n"
     ]
    }
   ],
   "source": [
    "#Displaying basic information about the DataFrame 'df_customers'\n",
    "\n",
    "df_customers.info()"
   ]
  },
  {
   "cell_type": "code",
   "execution_count": 6,
   "id": "68a05c7f",
   "metadata": {
    "execution": {
     "iopub.execute_input": "2023-12-18T08:39:08.874326Z",
     "iopub.status.busy": "2023-12-18T08:39:08.873962Z",
     "iopub.status.idle": "2023-12-18T08:40:21.245409Z",
     "shell.execute_reply": "2023-12-18T08:40:21.243620Z"
    },
    "papermill": {
     "duration": 72.386606,
     "end_time": "2023-12-18T08:40:21.248467",
     "exception": false,
     "start_time": "2023-12-18T08:39:08.861861",
     "status": "completed"
    },
    "tags": []
   },
   "outputs": [],
   "source": [
    "#Reading the transactions data set and storing in data frame containing transaction information\n",
    "\n",
    "df_transaction_train = pd.read_csv('/kaggle/input/h-and-m-personalized-fashion-recommendations/transactions_train.csv')"
   ]
  },
  {
   "cell_type": "code",
   "execution_count": 7,
   "id": "cac592b0",
   "metadata": {
    "execution": {
     "iopub.execute_input": "2023-12-18T08:40:21.279828Z",
     "iopub.status.busy": "2023-12-18T08:40:21.279379Z",
     "iopub.status.idle": "2023-12-18T08:40:21.296168Z",
     "shell.execute_reply": "2023-12-18T08:40:21.293507Z"
    },
    "papermill": {
     "duration": 0.036944,
     "end_time": "2023-12-18T08:40:21.299505",
     "exception": false,
     "start_time": "2023-12-18T08:40:21.262561",
     "status": "completed"
    },
    "tags": []
   },
   "outputs": [
    {
     "name": "stdout",
     "output_type": "stream",
     "text": [
      "<class 'pandas.core.frame.DataFrame'>\n",
      "RangeIndex: 31788324 entries, 0 to 31788323\n",
      "Data columns (total 5 columns):\n",
      " #   Column            Dtype  \n",
      "---  ------            -----  \n",
      " 0   t_dat             object \n",
      " 1   customer_id       object \n",
      " 2   article_id        int64  \n",
      " 3   price             float64\n",
      " 4   sales_channel_id  int64  \n",
      "dtypes: float64(1), int64(2), object(2)\n",
      "memory usage: 1.2+ GB\n"
     ]
    }
   ],
   "source": [
    "#Displaying basic information about the DataFrame 'df_transaction_train'\n",
    "\n",
    "df_transaction_train.info()"
   ]
  },
  {
   "cell_type": "code",
   "execution_count": 8,
   "id": "75a348f4",
   "metadata": {
    "execution": {
     "iopub.execute_input": "2023-12-18T08:40:21.331278Z",
     "iopub.status.busy": "2023-12-18T08:40:21.330831Z",
     "iopub.status.idle": "2023-12-18T08:40:55.405673Z",
     "shell.execute_reply": "2023-12-18T08:40:55.402802Z"
    },
    "papermill": {
     "duration": 34.097914,
     "end_time": "2023-12-18T08:40:55.411547",
     "exception": false,
     "start_time": "2023-12-18T08:40:21.313633",
     "status": "completed"
    },
    "tags": []
   },
   "outputs": [],
   "source": [
    "#Merging the articles and transactions data on article_id\n",
    "\n",
    "merged_df = df_transaction_train.merge(df, on='article_id', validate='many_to_one')"
   ]
  },
  {
   "cell_type": "code",
   "execution_count": 9,
   "id": "7f2632e4",
   "metadata": {
    "execution": {
     "iopub.execute_input": "2023-12-18T08:40:55.440179Z",
     "iopub.status.busy": "2023-12-18T08:40:55.439298Z",
     "iopub.status.idle": "2023-12-18T08:43:40.684983Z",
     "shell.execute_reply": "2023-12-18T08:43:40.683146Z"
    },
    "papermill": {
     "duration": 165.262883,
     "end_time": "2023-12-18T08:43:40.688530",
     "exception": false,
     "start_time": "2023-12-18T08:40:55.425647",
     "status": "completed"
    },
    "tags": []
   },
   "outputs": [],
   "source": [
    "#Merging customers data with merged_df on customer_id\n",
    "\n",
    "merged_df = merged_df.merge(df_customers,on='customer_id',validate='many_to_one')"
   ]
  },
  {
   "cell_type": "code",
   "execution_count": 10,
   "id": "08b5fb89",
   "metadata": {
    "execution": {
     "iopub.execute_input": "2023-12-18T08:43:40.715380Z",
     "iopub.status.busy": "2023-12-18T08:43:40.714994Z",
     "iopub.status.idle": "2023-12-18T08:43:47.683152Z",
     "shell.execute_reply": "2023-12-18T08:43:47.681118Z"
    },
    "papermill": {
     "duration": 6.984892,
     "end_time": "2023-12-18T08:43:47.685937",
     "exception": false,
     "start_time": "2023-12-18T08:43:40.701045",
     "status": "completed"
    },
    "tags": []
   },
   "outputs": [],
   "source": [
    "#Keeping only required columns for analysis\n",
    "\n",
    "selected_columns = ['t_dat','customer_id','article_id','price','sales_channel_id','product_type_name','colour_group_name','perceived_colour_value_name',\n",
    "                   'department_name','index_name','index_group_name','section_name','garment_group_name',\n",
    "                   'club_member_status','fashion_news_frequency','age','postal_code']\n",
    "\n",
    "# Select only the desired columns\n",
    "merged_df = merged_df[selected_columns]"
   ]
  },
  {
   "cell_type": "code",
   "execution_count": 11,
   "id": "26e3647e",
   "metadata": {
    "execution": {
     "iopub.execute_input": "2023-12-18T08:43:47.710365Z",
     "iopub.status.busy": "2023-12-18T08:43:47.709806Z",
     "iopub.status.idle": "2023-12-18T08:44:35.561507Z",
     "shell.execute_reply": "2023-12-18T08:44:35.559665Z"
    },
    "papermill": {
     "duration": 47.86738,
     "end_time": "2023-12-18T08:44:35.564326",
     "exception": false,
     "start_time": "2023-12-18T08:43:47.696946",
     "status": "completed"
    },
    "tags": []
   },
   "outputs": [],
   "source": [
    "#Converting 't_dat' to datetime\n",
    "merged_df['t_dat'] = pd.to_datetime(merged_df['t_dat'])\n",
    "\n",
    "#Converting 'price' to float\n",
    "merged_df['price'] = merged_df['price'].astype(float)\n",
    "\n",
    "#Converting 'age' to int\n",
    "merged_df['age'] = merged_df['age'].astype(float)\n",
    "\n",
    "#Converting all other columns to string\n",
    "columns_to_convert_to_string = ['customer_id', 'article_id', 'sales_channel_id', 'product_type_name', 'colour_group_name', 'perceived_colour_value_name',\n",
    "                                'department_name', 'index_name', 'index_group_name', 'section_name', 'garment_group_name', 'club_member_status',\n",
    "                                'fashion_news_frequency', 'postal_code']\n",
    "\n",
    "merged_df[columns_to_convert_to_string] = merged_df[columns_to_convert_to_string].astype(str)"
   ]
  },
  {
   "cell_type": "code",
   "execution_count": 12,
   "id": "caa76add",
   "metadata": {
    "execution": {
     "iopub.execute_input": "2023-12-18T08:44:35.696317Z",
     "iopub.status.busy": "2023-12-18T08:44:35.695887Z",
     "iopub.status.idle": "2023-12-18T08:44:35.704917Z",
     "shell.execute_reply": "2023-12-18T08:44:35.702605Z"
    },
    "papermill": {
     "duration": 0.02483,
     "end_time": "2023-12-18T08:44:35.707755",
     "exception": false,
     "start_time": "2023-12-18T08:44:35.682925",
     "status": "completed"
    },
    "tags": []
   },
   "outputs": [
    {
     "name": "stdout",
     "output_type": "stream",
     "text": [
      "t_dat                          datetime64[ns]\n",
      "customer_id                            object\n",
      "article_id                             object\n",
      "price                                 float64\n",
      "sales_channel_id                       object\n",
      "product_type_name                      object\n",
      "colour_group_name                      object\n",
      "perceived_colour_value_name            object\n",
      "department_name                        object\n",
      "index_name                             object\n",
      "index_group_name                       object\n",
      "section_name                           object\n",
      "garment_group_name                     object\n",
      "club_member_status                     object\n",
      "fashion_news_frequency                 object\n",
      "age                                   float64\n",
      "postal_code                            object\n",
      "dtype: object\n"
     ]
    }
   ],
   "source": [
    "column_data_types = merged_df.dtypes\n",
    "\n",
    "# Printing the columns and their data types\n",
    "print(column_data_types)"
   ]
  },
  {
   "cell_type": "code",
   "execution_count": 13,
   "id": "2c30a6d2",
   "metadata": {
    "execution": {
     "iopub.execute_input": "2023-12-18T08:44:35.733125Z",
     "iopub.status.busy": "2023-12-18T08:44:35.731417Z",
     "iopub.status.idle": "2023-12-18T08:44:35.901913Z",
     "shell.execute_reply": "2023-12-18T08:44:35.899951Z"
    },
    "papermill": {
     "duration": 0.185915,
     "end_time": "2023-12-18T08:44:35.904853",
     "exception": false,
     "start_time": "2023-12-18T08:44:35.718938",
     "status": "completed"
    },
    "tags": []
   },
   "outputs": [
    {
     "data": {
      "text/plain": [
       "0"
      ]
     },
     "execution_count": 13,
     "metadata": {},
     "output_type": "execute_result"
    }
   ],
   "source": [
    "del selected_columns\n",
    "del column_data_types\n",
    "del columns_to_convert_to_string\n",
    "gc.collect()"
   ]
  },
  {
   "cell_type": "code",
   "execution_count": 14,
   "id": "c9327e17",
   "metadata": {
    "execution": {
     "iopub.execute_input": "2023-12-18T08:44:35.929601Z",
     "iopub.status.busy": "2023-12-18T08:44:35.929219Z",
     "iopub.status.idle": "2023-12-18T08:44:36.973357Z",
     "shell.execute_reply": "2023-12-18T08:44:36.972355Z"
    },
    "papermill": {
     "duration": 1.059234,
     "end_time": "2023-12-18T08:44:36.975432",
     "exception": false,
     "start_time": "2023-12-18T08:44:35.916198",
     "status": "completed"
    },
    "tags": []
   },
   "outputs": [
    {
     "data": {
      "text/plain": [
       "count    3.178832e+07\n",
       "mean     2.782927e-02\n",
       "std      1.918113e-02\n",
       "min      1.694915e-05\n",
       "25%      1.581356e-02\n",
       "50%      2.540678e-02\n",
       "75%      3.388136e-02\n",
       "max      5.915254e-01\n",
       "Name: price, dtype: float64"
      ]
     },
     "execution_count": 14,
     "metadata": {},
     "output_type": "execute_result"
    }
   ],
   "source": [
    "#Describing price variable for segmentation in low, medium and high valued customer\n",
    "merged_df['price'].describe()"
   ]
  },
  {
   "cell_type": "code",
   "execution_count": 15,
   "id": "d3f965e9",
   "metadata": {
    "execution": {
     "iopub.execute_input": "2023-12-18T08:44:37.000392Z",
     "iopub.status.busy": "2023-12-18T08:44:36.999986Z",
     "iopub.status.idle": "2023-12-18T08:44:40.544887Z",
     "shell.execute_reply": "2023-12-18T08:44:40.542889Z"
    },
    "papermill": {
     "duration": 3.560558,
     "end_time": "2023-12-18T08:44:40.547722",
     "exception": false,
     "start_time": "2023-12-18T08:44:36.987164",
     "status": "completed"
    },
    "tags": []
   },
   "outputs": [
    {
     "name": "stdout",
     "output_type": "stream",
     "text": [
      "                                                customer_id     price  \\\n",
      "0         000058a12d5b43e67d225668fa1f8d618c13dc232df0ca...  0.050831   \n",
      "1         000058a12d5b43e67d225668fa1f8d618c13dc232df0ca...  0.050831   \n",
      "2         000058a12d5b43e67d225668fa1f8d618c13dc232df0ca...  0.030492   \n",
      "3         000058a12d5b43e67d225668fa1f8d618c13dc232df0ca...  0.013542   \n",
      "4         000058a12d5b43e67d225668fa1f8d618c13dc232df0ca...  0.022017   \n",
      "...                                                     ...       ...   \n",
      "31788319  45a78e9b050490ff3a368eb8b1a5c2a02899518d54f04a...  0.059305   \n",
      "31788320  45a78e9b050490ff3a368eb8b1a5c2a02899518d54f04a...  0.059305   \n",
      "31788321  45a78e9b050490ff3a368eb8b1a5c2a02899518d54f04a...  0.059305   \n",
      "31788322  213328c37a4dec26427e7fa7fde54b8bb5e6550135629a...  0.007610   \n",
      "31788323  b834a2cb440d2298493d254196abb73e101d8b35b155c6...  0.061000   \n",
      "\n",
      "               Monetary_Segment  \n",
      "0           High-Value Customer  \n",
      "1           High-Value Customer  \n",
      "2           High-Value Customer  \n",
      "3            Low-Value Customer  \n",
      "4         Medium-Value Customer  \n",
      "...                         ...  \n",
      "31788319    High-Value Customer  \n",
      "31788320    High-Value Customer  \n",
      "31788321    High-Value Customer  \n",
      "31788322     Low-Value Customer  \n",
      "31788323    High-Value Customer  \n",
      "\n",
      "[31788324 rows x 3 columns]\n"
     ]
    }
   ],
   "source": [
    "#Calculating the quartiles for \"price\" in the merged_df DataFrame\n",
    "quantiles = merged_df['price'].quantile([0.25, 0.50, 0.75])\n",
    "q1, q2, q3 = quantiles[0.25], quantiles[0.50], quantiles[0.75]\n",
    "\n",
    "#Creating bins and labels for segmentation\n",
    "bins = [-np.inf, q1, q2, np.inf]\n",
    "labels = [\"Low-Value Customer\", \"Medium-Value Customer\", \"High-Value Customer\"]\n",
    "\n",
    "#Assigning Monetary Facet segments based on the price\n",
    "merged_df['Monetary_Segment'] = pd.cut(merged_df['price'], bins=bins, labels=labels)\n",
    "\n",
    "#Displaying the resulting DataFrame with the Monetary Facet segments\n",
    "print(merged_df[['customer_id', 'price', 'Monetary_Segment']])"
   ]
  },
  {
   "cell_type": "code",
   "execution_count": 16,
   "id": "1c1b21ff",
   "metadata": {
    "execution": {
     "iopub.execute_input": "2023-12-18T08:44:40.573411Z",
     "iopub.status.busy": "2023-12-18T08:44:40.572964Z",
     "iopub.status.idle": "2023-12-18T08:44:59.767769Z",
     "shell.execute_reply": "2023-12-18T08:44:59.764901Z"
    },
    "papermill": {
     "duration": 19.211467,
     "end_time": "2023-12-18T08:44:59.770919",
     "exception": false,
     "start_time": "2023-12-18T08:44:40.559452",
     "status": "completed"
    },
    "tags": []
   },
   "outputs": [
    {
     "name": "stdout",
     "output_type": "stream",
     "text": [
      "Most Common Colors in H&M Inventory in Year 2018:\n",
      "  colour_group_name  article_id\n",
      "0             Black       10078\n",
      "1         Dark Blue        5458\n",
      "2             White        3699\n",
      "3        Light Pink        2161\n",
      "4              Grey        2109\n",
      "\n",
      "Most Common Colors in H&M Inventory in Year 2019:\n",
      "  colour_group_name  article_id\n",
      "5             Black       15812\n",
      "6         Dark Blue        8772\n",
      "7             White        6515\n",
      "8        Light Pink        3693\n",
      "9              Grey        3177\n",
      "\n",
      "Most Common Colors in H&M Inventory in Year 2020:\n",
      "   colour_group_name  article_id\n",
      "10             Black       13947\n",
      "11         Dark Blue        6057\n",
      "12             White        5727\n",
      "13        Light Pink        3151\n",
      "14       Light Beige        2316\n",
      "\n"
     ]
    }
   ],
   "source": [
    "#Extracting the year from the 't_dat' column\n",
    "merged_df['year'] = merged_df['t_dat'].dt.year\n",
    "\n",
    "#Group by year and color, then count unique article IDs\n",
    "top_colors_by_year = merged_df.groupby(['year', 'colour_group_name'])['article_id'].nunique().reset_index()\n",
    "\n",
    "#Get the top 5 colors for each year\n",
    "top_5_colors_by_year = top_colors_by_year.groupby('year').apply(lambda x: x.nlargest(5, 'article_id')).reset_index(drop=True)\n",
    "\n",
    "#Printing the top 5 colors for each year\n",
    "for year, group in top_5_colors_by_year.groupby('year'):\n",
    "    print(f'Most Common Colors in H&M Inventory in Year {year}:')\n",
    "    print(group[['colour_group_name', 'article_id']])\n",
    "    print()\n"
   ]
  },
  {
   "cell_type": "code",
   "execution_count": 17,
   "id": "6030a830",
   "metadata": {
    "execution": {
     "iopub.execute_input": "2023-12-18T08:44:59.798059Z",
     "iopub.status.busy": "2023-12-18T08:44:59.797637Z",
     "iopub.status.idle": "2023-12-18T08:45:00.619547Z",
     "shell.execute_reply": "2023-12-18T08:45:00.617125Z"
    },
    "papermill": {
     "duration": 0.839343,
     "end_time": "2023-12-18T08:45:00.622806",
     "exception": false,
     "start_time": "2023-12-18T08:44:59.783463",
     "status": "completed"
    },
    "tags": []
   },
   "outputs": [
    {
     "name": "stderr",
     "output_type": "stream",
     "text": [
      "/tmp/ipykernel_19/1493854510.py:16: UserWarning: FixedFormatter should only be used together with FixedLocator\n",
      "  ax.set_xticklabels(data_year['colour_group_name'], rotation=45, ha='right')\n"
     ]
    },
    {
     "data": {
      "image/png": "[encoded data removed]",
      "text/plain": [
       "<Figure size 1000x1800 with 3 Axes>"
      ]
     },
     "metadata": {},
     "output_type": "display_data"
    }
   ],
   "source": [
    "#Creating subplots for each year\n",
    "fig, axes = plt.subplots(nrows=len(top_5_colors_by_year['year'].unique()), figsize=(10, 6 * len(top_5_colors_by_year['year'].unique())))\n",
    "\n",
    "#Specifying the color\n",
    "bar_color = '#FF5733'\n",
    "\n",
    "#Iterating through each year and plot the top 5 colors\n",
    "for i, year in enumerate(top_5_colors_by_year['year'].unique()):\n",
    "    ax = axes[i]\n",
    "    data_year = top_5_colors_by_year[top_5_colors_by_year['year'] == year]\n",
    "    \n",
    "    ax.bar(data_year['colour_group_name'], data_year['article_id'], color=bar_color)\n",
    "    ax.set_title(f'Most Common Colors in H&M Inventory in Year {year}')\n",
    "    ax.set_xlabel('Color Group')\n",
    "    ax.set_ylabel('Number of Article IDs')\n",
    "    ax.set_xticklabels(data_year['colour_group_name'], rotation=45, ha='right')\n",
    "    \n",
    "plt.tight_layout()\n",
    "plt.show()"
   ]
  },
  {
   "cell_type": "code",
   "execution_count": 18,
   "id": "fe2a387a",
   "metadata": {
    "execution": {
     "iopub.execute_input": "2023-12-18T08:45:00.653236Z",
     "iopub.status.busy": "2023-12-18T08:45:00.652811Z",
     "iopub.status.idle": "2023-12-18T08:45:18.548241Z",
     "shell.execute_reply": "2023-12-18T08:45:18.546165Z"
    },
    "papermill": {
     "duration": 17.913558,
     "end_time": "2023-12-18T08:45:18.550916",
     "exception": false,
     "start_time": "2023-12-18T08:45:00.637358",
     "status": "completed"
    },
    "tags": []
   },
   "outputs": [
    {
     "name": "stdout",
     "output_type": "stream",
     "text": [
      "Top 5 Product Types offered by H&M in Year 2018:\n",
      "  product_type_name  article_id\n",
      "0          Trousers        4805\n",
      "1           Sweater        4626\n",
      "2             Dress        3554\n",
      "3           T-shirt        3161\n",
      "4            Blouse        1867\n",
      "\n",
      "Top 5 Product Types offered by H&M in Year 2019:\n",
      "  product_type_name  article_id\n",
      "5          Trousers        7708\n",
      "6           Sweater        6632\n",
      "7             Dress        6621\n",
      "8           T-shirt        5150\n",
      "9            Blouse        2867\n",
      "\n",
      "Top 5 Product Types offered by H&M in Year 2020:\n",
      "   product_type_name  article_id\n",
      "10          Trousers        6604\n",
      "11             Dress        6535\n",
      "12           Sweater        4697\n",
      "13           T-shirt        4209\n",
      "14            Shorts        2571\n",
      "\n"
     ]
    }
   ],
   "source": [
    "#Group by year and category, then count unique article IDs\n",
    "top_categories_by_year = merged_df.groupby(['year', 'product_type_name'])['article_id'].nunique().reset_index()\n",
    "\n",
    "#Get the top 5 categories for each year\n",
    "top_5_categories_by_year = top_categories_by_year.groupby('year').apply(lambda x: x.nlargest(5, 'article_id')).reset_index(drop=True)\n",
    "\n",
    "#Printing the top 5 categories for each year\n",
    "for year, group in top_5_categories_by_year.groupby('year'):\n",
    "    print(f'Top 5 Product Types offered by H&M in Year {year}:')\n",
    "    print(group[['product_type_name', 'article_id']])\n",
    "    print()"
   ]
  },
  {
   "cell_type": "code",
   "execution_count": 19,
   "id": "b61e0b00",
   "metadata": {
    "execution": {
     "iopub.execute_input": "2023-12-18T08:45:18.579053Z",
     "iopub.status.busy": "2023-12-18T08:45:18.578639Z",
     "iopub.status.idle": "2023-12-18T08:45:19.279773Z",
     "shell.execute_reply": "2023-12-18T08:45:19.278381Z"
    },
    "papermill": {
     "duration": 0.717751,
     "end_time": "2023-12-18T08:45:19.282122",
     "exception": false,
     "start_time": "2023-12-18T08:45:18.564371",
     "status": "completed"
    },
    "tags": []
   },
   "outputs": [
    {
     "name": "stderr",
     "output_type": "stream",
     "text": [
      "/tmp/ipykernel_19/2214297717.py:16: UserWarning: FixedFormatter should only be used together with FixedLocator\n",
      "  ax.set_xticklabels(data_year['product_type_name'], rotation=45, ha='right')\n"
     ]
    },
    {
     "data": {
      "image/png": "[encoded data removed]",
      "text/plain": [
       "<Figure size 1000x1800 with 3 Axes>"
      ]
     },
     "metadata": {},
     "output_type": "display_data"
    }
   ],
   "source": [
    "#Creating subplots for each year\n",
    "fig, axes = plt.subplots(nrows=len(top_5_categories_by_year['year'].unique()), figsize=(10, 6 * len(top_5_categories_by_year['year'].unique())))\n",
    "\n",
    "#Specify the color\n",
    "bar_color = 'red'\n",
    "\n",
    "#Iterating through each year and plot the top 5 categories\n",
    "for i, year in enumerate(top_5_categories_by_year['year'].unique()):\n",
    "    ax = axes[i]\n",
    "    data_year = top_5_categories_by_year[top_5_categories_by_year['year'] == year]\n",
    "    \n",
    "    ax.bar(data_year['product_type_name'], data_year['article_id'], color=bar_color)\n",
    "    ax.set_title(f'Top 5 Product Types offered by H&M in Year {year}')\n",
    "    ax.set_xlabel('Product Type Name')\n",
    "    ax.set_ylabel('Number of Article IDs')\n",
    "    ax.set_xticklabels(data_year['product_type_name'], rotation=45, ha='right')\n",
    "    \n",
    "plt.tight_layout()\n",
    "plt.show()"
   ]
  },
  {
   "cell_type": "code",
   "execution_count": 20,
   "id": "8f788bd3",
   "metadata": {
    "execution": {
     "iopub.execute_input": "2023-12-18T08:45:19.312403Z",
     "iopub.status.busy": "2023-12-18T08:45:19.311982Z",
     "iopub.status.idle": "2023-12-18T08:45:19.432826Z",
     "shell.execute_reply": "2023-12-18T08:45:19.431777Z"
    },
    "papermill": {
     "duration": 0.138791,
     "end_time": "2023-12-18T08:45:19.435222",
     "exception": false,
     "start_time": "2023-12-18T08:45:19.296431",
     "status": "completed"
    },
    "tags": []
   },
   "outputs": [
    {
     "data": {
      "text/plain": [
       "9655"
      ]
     },
     "execution_count": 20,
     "metadata": {},
     "output_type": "execute_result"
    }
   ],
   "source": [
    "del top_colors_by_year\n",
    "del top_5_colors_by_year\n",
    "del top_categories_by_year\n",
    "del top_5_categories_by_year\n",
    "gc.collect()"
   ]
  },
  {
   "cell_type": "code",
   "execution_count": 21,
   "id": "456a52e1",
   "metadata": {
    "execution": {
     "iopub.execute_input": "2023-12-18T08:45:19.467251Z",
     "iopub.status.busy": "2023-12-18T08:45:19.466852Z",
     "iopub.status.idle": "2023-12-18T08:45:31.625067Z",
     "shell.execute_reply": "2023-12-18T08:45:31.623244Z"
    },
    "papermill": {
     "duration": 12.17812,
     "end_time": "2023-12-18T08:45:31.628003",
     "exception": false,
     "start_time": "2023-12-18T08:45:19.449883",
     "status": "completed"
    },
    "tags": []
   },
   "outputs": [
    {
     "data": {
      "image/png": "[encoded data removed]",
      "text/plain": [
       "<Figure size 500x600 with 1 Axes>"
      ]
     },
     "metadata": {},
     "output_type": "display_data"
    }
   ],
   "source": [
    "#Grouping the data by year and calculating the total unique customers for each year\n",
    "unique_customers_yoy = merged_df.groupby('year')['customer_id'].nunique().reset_index()\n",
    "\n",
    "#Calculating the YoY change in the number of unique customers\n",
    "unique_customers_yoy['yoy_change'] = unique_customers_yoy['customer_id'].pct_change()\n",
    "# Create a figure with subplots for the bar chart\n",
    "fig, ax1 = plt.subplots(1, 1, figsize=(5, 6))\n",
    "\n",
    "#Bar chart for total unique customers\n",
    "sns.barplot(data=unique_customers_yoy, x='year', y='customer_id', ax=ax1, color='red')\n",
    "ax1.set_title('Total Unique Customers (YoY)')\n",
    "ax1.set_xlabel('Year')\n",
    "ax1.set_ylabel('Total Unique Customers')\n",
    "\n",
    "#Adding numbers on top of bars\n",
    "for p in ax1.patches:\n",
    "    ax1.annotate(format(p.get_height(), '.0f'), \n",
    "                   (p.get_x() + p.get_width() / 2., p.get_height()), \n",
    "                   ha = 'center', va = 'center', \n",
    "                   xytext = (0, 9), \n",
    "                   textcoords = 'offset points')\n",
    "\n",
    "#Format the y-axis labels as regular numbers\n",
    "ax1.get_yaxis().get_major_formatter().set_scientific(False)\n",
    "\n",
    "#Show the plot\n",
    "plt.show()"
   ]
  },
  {
   "cell_type": "code",
   "execution_count": 22,
   "id": "e3ab21e1",
   "metadata": {
    "execution": {
     "iopub.execute_input": "2023-12-18T08:45:31.662677Z",
     "iopub.status.busy": "2023-12-18T08:45:31.662295Z",
     "iopub.status.idle": "2023-12-18T08:45:31.677597Z",
     "shell.execute_reply": "2023-12-18T08:45:31.675919Z"
    },
    "papermill": {
     "duration": 0.036705,
     "end_time": "2023-12-18T08:45:31.680215",
     "exception": false,
     "start_time": "2023-12-18T08:45:31.643510",
     "status": "completed"
    },
    "tags": []
   },
   "outputs": [
    {
     "data": {
      "text/html": [
       "<div>\n",
       "<style scoped>\n",
       "    .dataframe tbody tr th:only-of-type {\n",
       "        vertical-align: middle;\n",
       "    }\n",
       "\n",
       "    .dataframe tbody tr th {\n",
       "        vertical-align: top;\n",
       "    }\n",
       "\n",
       "    .dataframe thead th {\n",
       "        text-align: right;\n",
       "    }\n",
       "</style>\n",
       "<table border=\"1\" class=\"dataframe\">\n",
       "  <thead>\n",
       "    <tr style=\"text-align: right;\">\n",
       "      <th></th>\n",
       "      <th>year</th>\n",
       "      <th>customer_id</th>\n",
       "      <th>yoy_change</th>\n",
       "    </tr>\n",
       "  </thead>\n",
       "  <tbody>\n",
       "    <tr>\n",
       "      <th>0</th>\n",
       "      <td>2018</td>\n",
       "      <td>581186</td>\n",
       "      <td>NaN</td>\n",
       "    </tr>\n",
       "    <tr>\n",
       "      <th>1</th>\n",
       "      <td>2019</td>\n",
       "      <td>976801</td>\n",
       "      <td>0.680703</td>\n",
       "    </tr>\n",
       "    <tr>\n",
       "      <th>2</th>\n",
       "      <td>2020</td>\n",
       "      <td>862724</td>\n",
       "      <td>-0.116786</td>\n",
       "    </tr>\n",
       "  </tbody>\n",
       "</table>\n",
       "</div>"
      ],
      "text/plain": [
       "   year  customer_id  yoy_change\n",
       "0  2018       581186         NaN\n",
       "1  2019       976801    0.680703\n",
       "2  2020       862724   -0.116786"
      ]
     },
     "execution_count": 22,
     "metadata": {},
     "output_type": "execute_result"
    }
   ],
   "source": [
    "unique_customers_yoy"
   ]
  },
  {
   "cell_type": "code",
   "execution_count": 23,
   "id": "9cf4fe91",
   "metadata": {
    "execution": {
     "iopub.execute_input": "2023-12-18T08:45:31.712946Z",
     "iopub.status.busy": "2023-12-18T08:45:31.712293Z",
     "iopub.status.idle": "2023-12-18T08:46:29.537002Z",
     "shell.execute_reply": "2023-12-18T08:46:29.534080Z"
    },
    "papermill": {
     "duration": 57.85931,
     "end_time": "2023-12-18T08:46:29.554512",
     "exception": false,
     "start_time": "2023-12-18T08:45:31.695202",
     "status": "completed"
    },
    "tags": []
   },
   "outputs": [
    {
     "data": {
      "image/png": "[encoded data removed]",
      "text/plain": [
       "<Figure size 600x300 with 1 Axes>"
      ]
     },
     "metadata": {},
     "output_type": "display_data"
    }
   ],
   "source": [
    "#Sorting the DataFrame by 'year' and 'customer_id'\n",
    "merged_df.sort_values(by=['year', 'customer_id'], inplace=True)\n",
    "\n",
    "#Initializing variables to keep track of previous year's customers\n",
    "previous_year_customers = set()\n",
    "\n",
    "#Creating lists to store the results for plotting\n",
    "years = []\n",
    "new_customers_count = []\n",
    "lost_customers_count = []\n",
    "total_customers_count = []\n",
    "\n",
    "#Iterating through each year\n",
    "for year in merged_df['year'].unique():\n",
    "    current_year_customers = set(merged_df[merged_df['year'] == year]['customer_id'])\n",
    "    \n",
    "    #Calculating new customers (present in the current year but not in the previous year)\n",
    "    new_customers = current_year_customers - previous_year_customers\n",
    "    \n",
    "    #Calculating lost customers (present in the previous year but not in the current year)\n",
    "    lost_customers = previous_year_customers - current_year_customers\n",
    "    \n",
    "    #Updating previous_year_customers for the next iteration\n",
    "    previous_year_customers = current_year_customers\n",
    "    \n",
    "    #Storing the results for plotting\n",
    "    years.append(year)\n",
    "    new_customers_count.append(len(new_customers))\n",
    "    lost_customers_count.append(len(lost_customers))\n",
    "    \n",
    "    #Calculating the total customers for the current year\n",
    "    total_customers_count.append(len(current_year_customers))\n",
    "\n",
    "#Creating a DataFrame for plotting\n",
    "plot_data = pd.DataFrame({'Year': years, 'New Customers': new_customers_count, 'Lost Customers': lost_customers_count, 'Total Customers': total_customers_count})\n",
    "\n",
    "#Creating a grouped bar chart using Matplotlib\n",
    "plt.figure(figsize=(6, 3))\n",
    "width = 0.2  # Width of each bar\n",
    "x = range(len(years))\n",
    "\n",
    "#Solid red for total customers\n",
    "plt.bar(x, total_customers_count, width, label='Total Customers', color='red')\n",
    "\n",
    "#Light red for new customers\n",
    "plt.bar([i + width for i in x], new_customers_count, width, label='New Customers', color='lightcoral')\n",
    "\n",
    "#Lightest red for lost customers\n",
    "plt.bar([i + width * 2 for i in x], lost_customers_count, width, label='Lost Customers', color='mistyrose')\n",
    "\n",
    "plt.xlabel('Year')\n",
    "plt.ylabel('Count')\n",
    "plt.title('New, Lost, and Total Customers Over the Years')\n",
    "plt.xticks([i + width for i in x], years)  #Setting x-axis labels to years\n",
    "plt.ticklabel_format(style='plain', axis='y')\n",
    "plt.legend()\n",
    "plt.tight_layout()\n",
    "plt.show()"
   ]
  },
  {
   "cell_type": "code",
   "execution_count": 24,
   "id": "0175c589",
   "metadata": {
    "execution": {
     "iopub.execute_input": "2023-12-18T08:46:29.586475Z",
     "iopub.status.busy": "2023-12-18T08:46:29.586034Z",
     "iopub.status.idle": "2023-12-18T08:46:29.598124Z",
     "shell.execute_reply": "2023-12-18T08:46:29.597053Z"
    },
    "papermill": {
     "duration": 0.030078,
     "end_time": "2023-12-18T08:46:29.600057",
     "exception": false,
     "start_time": "2023-12-18T08:46:29.569979",
     "status": "completed"
    },
    "tags": []
   },
   "outputs": [
    {
     "data": {
      "text/html": [
       "<div>\n",
       "<style scoped>\n",
       "    .dataframe tbody tr th:only-of-type {\n",
       "        vertical-align: middle;\n",
       "    }\n",
       "\n",
       "    .dataframe tbody tr th {\n",
       "        vertical-align: top;\n",
       "    }\n",
       "\n",
       "    .dataframe thead th {\n",
       "        text-align: right;\n",
       "    }\n",
       "</style>\n",
       "<table border=\"1\" class=\"dataframe\">\n",
       "  <thead>\n",
       "    <tr style=\"text-align: right;\">\n",
       "      <th></th>\n",
       "      <th>Year</th>\n",
       "      <th>New Customers</th>\n",
       "      <th>Lost Customers</th>\n",
       "      <th>Total Customers</th>\n",
       "    </tr>\n",
       "  </thead>\n",
       "  <tbody>\n",
       "    <tr>\n",
       "      <th>0</th>\n",
       "      <td>2018</td>\n",
       "      <td>581186</td>\n",
       "      <td>0</td>\n",
       "      <td>581186</td>\n",
       "    </tr>\n",
       "    <tr>\n",
       "      <th>1</th>\n",
       "      <td>2019</td>\n",
       "      <td>535691</td>\n",
       "      <td>140076</td>\n",
       "      <td>976801</td>\n",
       "    </tr>\n",
       "    <tr>\n",
       "      <th>2</th>\n",
       "      <td>2020</td>\n",
       "      <td>268811</td>\n",
       "      <td>382888</td>\n",
       "      <td>862724</td>\n",
       "    </tr>\n",
       "  </tbody>\n",
       "</table>\n",
       "</div>"
      ],
      "text/plain": [
       "   Year  New Customers  Lost Customers  Total Customers\n",
       "0  2018         581186               0           581186\n",
       "1  2019         535691          140076           976801\n",
       "2  2020         268811          382888           862724"
      ]
     },
     "execution_count": 24,
     "metadata": {},
     "output_type": "execute_result"
    }
   ],
   "source": [
    "plot_data"
   ]
  },
  {
   "cell_type": "code",
   "execution_count": 25,
   "id": "34dc3ac7",
   "metadata": {
    "execution": {
     "iopub.execute_input": "2023-12-18T08:46:29.631752Z",
     "iopub.status.busy": "2023-12-18T08:46:29.631267Z",
     "iopub.status.idle": "2023-12-18T08:46:29.853461Z",
     "shell.execute_reply": "2023-12-18T08:46:29.851721Z"
    },
    "papermill": {
     "duration": 0.24132,
     "end_time": "2023-12-18T08:46:29.856306",
     "exception": false,
     "start_time": "2023-12-18T08:46:29.614986",
     "status": "completed"
    },
    "tags": []
   },
   "outputs": [
    {
     "data": {
      "text/plain": [
       "3637"
      ]
     },
     "execution_count": 25,
     "metadata": {},
     "output_type": "execute_result"
    }
   ],
   "source": [
    "del unique_customers_yoy\n",
    "del plot_data\n",
    "gc.collect()"
   ]
  },
  {
   "cell_type": "code",
   "execution_count": 26,
   "id": "bd9e40d5",
   "metadata": {
    "execution": {
     "iopub.execute_input": "2023-12-18T08:46:29.894011Z",
     "iopub.status.busy": "2023-12-18T08:46:29.893514Z",
     "iopub.status.idle": "2023-12-18T08:46:44.149157Z",
     "shell.execute_reply": "2023-12-18T08:46:44.148086Z"
    },
    "papermill": {
     "duration": 14.277468,
     "end_time": "2023-12-18T08:46:44.151875",
     "exception": false,
     "start_time": "2023-12-18T08:46:29.874407",
     "status": "completed"
    },
    "tags": []
   },
   "outputs": [
    {
     "data": {
      "image/png": "[encoded data removed]",
      "text/plain": [
       "<Figure size 1200x800 with 1 Axes>"
      ]
     },
     "metadata": {},
     "output_type": "display_data"
    }
   ],
   "source": [
    "#Initializing a list to store the top 5 products for each year\n",
    "top_5_products_yoy = []\n",
    "\n",
    "#Iterating through each year and perform analysis\n",
    "for year in merged_df['year'].unique():\n",
    "    #Filtering data for the current year\n",
    "    data_year = merged_df[merged_df['year'] == year]\n",
    "\n",
    "    #Grouping by product and calculate total sales or transaction count\n",
    "    top_products = data_year.groupby('product_type_name').size().reset_index(name='transaction_count')\n",
    "    \n",
    "    #Selecting the top 5 selling products for the current year\n",
    "    top_5_products = top_products.nlargest(5, 'transaction_count')\n",
    "\n",
    "    #Appending the results to the list\n",
    "    top_5_products_yoy.append((year, top_5_products))\n",
    "\n",
    "#Creating a custom red color palette\n",
    "red_palette = ['#FF5733', '#FF794E', '#FF9E72', '#FFBFA1', '#FFDAC9']\n",
    "\n",
    "#Creating a grouped bar chart for the top 5 products by year\n",
    "fig, ax = plt.subplots(figsize=(12, 8))\n",
    "\n",
    "#Preparing data for plotting\n",
    "years = [year for year, _ in top_5_products_yoy]\n",
    "product_names = [list(products['product_type_name']) for _, products in top_5_products_yoy]\n",
    "transaction_counts = [list(products['transaction_count']) for _, products in top_5_products_yoy]\n",
    "\n",
    "#Setting bar width and spacing\n",
    "bar_width = 0.18  # Wider bar width\n",
    "spacing = 0   # Reduced spacing\n",
    "\n",
    "n = len(years)\n",
    "bar_positions = [j - (bar_width + spacing) * 2 for j in range(n)]  # Adjusted bar positions\n",
    "\n",
    "#Creating bars for each product using the custom red color palette\n",
    "for i, product_name in enumerate(product_names[0]):\n",
    "    x = [j + i * (bar_width + spacing) for j in bar_positions]\n",
    "    y = [counts[i] for counts in transaction_counts]\n",
    "    ax.bar(x, y, width=bar_width, label=f'{product_name}', alpha=0.7, color=red_palette[i])\n",
    "\n",
    "#Setting x-axis ticks and labels\n",
    "ax.set_xticks([j + (n / 2) * (bar_width + spacing) for j in bar_positions])\n",
    "ax.set_xticklabels(years)\n",
    "ax.set_xlabel('Year')\n",
    "ax.set_ylabel('Transaction Count')\n",
    "ax.set_title('Top 5 Selling Products Year-over-Year')\n",
    "ax.legend()\n",
    "\n",
    "#Formatting y-axis labels as integers (no scientific notation)\n",
    "ax.get_yaxis().get_major_formatter().set_scientific(False)\n",
    "\n",
    "plt.tight_layout()\n",
    "plt.show()"
   ]
  },
  {
   "cell_type": "code",
   "execution_count": 27,
   "id": "8e9cbc1b",
   "metadata": {
    "execution": {
     "iopub.execute_input": "2023-12-18T08:46:44.186592Z",
     "iopub.status.busy": "2023-12-18T08:46:44.185425Z",
     "iopub.status.idle": "2023-12-18T08:46:45.135268Z",
     "shell.execute_reply": "2023-12-18T08:46:45.134228Z"
    },
    "papermill": {
     "duration": 0.968869,
     "end_time": "2023-12-18T08:46:45.137217",
     "exception": false,
     "start_time": "2023-12-18T08:46:44.168348",
     "status": "completed"
    },
    "tags": []
   },
   "outputs": [
    {
     "data": {
      "text/plain": [
       "25"
      ]
     },
     "execution_count": 27,
     "metadata": {},
     "output_type": "execute_result"
    }
   ],
   "source": [
    "del top_5_products_yoy\n",
    "del data_year\n",
    "del top_products\n",
    "del top_5_products\n",
    "del fig\n",
    "gc.collect()"
   ]
  },
  {
   "cell_type": "code",
   "execution_count": 28,
   "id": "a5ca9719",
   "metadata": {
    "execution": {
     "iopub.execute_input": "2023-12-18T08:46:45.172397Z",
     "iopub.status.busy": "2023-12-18T08:46:45.171581Z",
     "iopub.status.idle": "2023-12-18T08:46:56.928982Z",
     "shell.execute_reply": "2023-12-18T08:46:56.927422Z"
    },
    "papermill": {
     "duration": 11.779353,
     "end_time": "2023-12-18T08:46:56.932092",
     "exception": false,
     "start_time": "2023-12-18T08:46:45.152739",
     "status": "completed"
    },
    "tags": []
   },
   "outputs": [
    {
     "data": {
      "text/html": [
       "<div>\n",
       "<style scoped>\n",
       "    .dataframe tbody tr th:only-of-type {\n",
       "        vertical-align: middle;\n",
       "    }\n",
       "\n",
       "    .dataframe tbody tr th {\n",
       "        vertical-align: top;\n",
       "    }\n",
       "\n",
       "    .dataframe thead th {\n",
       "        text-align: right;\n",
       "    }\n",
       "</style>\n",
       "<table border=\"1\" class=\"dataframe\">\n",
       "  <thead>\n",
       "    <tr style=\"text-align: right;\">\n",
       "      <th></th>\n",
       "      <th>Monetary_Segment</th>\n",
       "      <th>year</th>\n",
       "      <th>No. of customers</th>\n",
       "      <th>YoY Change</th>\n",
       "    </tr>\n",
       "  </thead>\n",
       "  <tbody>\n",
       "    <tr>\n",
       "      <th>0</th>\n",
       "      <td>Low-Value Customer</td>\n",
       "      <td>2018</td>\n",
       "      <td>310501</td>\n",
       "      <td>NaN</td>\n",
       "    </tr>\n",
       "    <tr>\n",
       "      <th>1</th>\n",
       "      <td>Low-Value Customer</td>\n",
       "      <td>2019</td>\n",
       "      <td>654172</td>\n",
       "      <td>110.682735</td>\n",
       "    </tr>\n",
       "    <tr>\n",
       "      <th>2</th>\n",
       "      <td>Low-Value Customer</td>\n",
       "      <td>2020</td>\n",
       "      <td>541996</td>\n",
       "      <td>-17.147784</td>\n",
       "    </tr>\n",
       "    <tr>\n",
       "      <th>3</th>\n",
       "      <td>Medium-Value Customer</td>\n",
       "      <td>2018</td>\n",
       "      <td>394422</td>\n",
       "      <td>NaN</td>\n",
       "    </tr>\n",
       "    <tr>\n",
       "      <th>4</th>\n",
       "      <td>Medium-Value Customer</td>\n",
       "      <td>2019</td>\n",
       "      <td>764257</td>\n",
       "      <td>93.766321</td>\n",
       "    </tr>\n",
       "    <tr>\n",
       "      <th>5</th>\n",
       "      <td>Medium-Value Customer</td>\n",
       "      <td>2020</td>\n",
       "      <td>685775</td>\n",
       "      <td>-10.269059</td>\n",
       "    </tr>\n",
       "    <tr>\n",
       "      <th>6</th>\n",
       "      <td>High-Value Customer</td>\n",
       "      <td>2018</td>\n",
       "      <td>461596</td>\n",
       "      <td>NaN</td>\n",
       "    </tr>\n",
       "    <tr>\n",
       "      <th>7</th>\n",
       "      <td>High-Value Customer</td>\n",
       "      <td>2019</td>\n",
       "      <td>819230</td>\n",
       "      <td>77.477708</td>\n",
       "    </tr>\n",
       "    <tr>\n",
       "      <th>8</th>\n",
       "      <td>High-Value Customer</td>\n",
       "      <td>2020</td>\n",
       "      <td>693789</td>\n",
       "      <td>-15.312061</td>\n",
       "    </tr>\n",
       "  </tbody>\n",
       "</table>\n",
       "</div>"
      ],
      "text/plain": [
       "        Monetary_Segment  year  No. of customers  YoY Change\n",
       "0     Low-Value Customer  2018            310501         NaN\n",
       "1     Low-Value Customer  2019            654172  110.682735\n",
       "2     Low-Value Customer  2020            541996  -17.147784\n",
       "3  Medium-Value Customer  2018            394422         NaN\n",
       "4  Medium-Value Customer  2019            764257   93.766321\n",
       "5  Medium-Value Customer  2020            685775  -10.269059\n",
       "6    High-Value Customer  2018            461596         NaN\n",
       "7    High-Value Customer  2019            819230   77.477708\n",
       "8    High-Value Customer  2020            693789  -15.312061"
      ]
     },
     "execution_count": 28,
     "metadata": {},
     "output_type": "execute_result"
    }
   ],
   "source": [
    "#Grouping data by 'Monetary_Segment' and 'Year' and count unique customers\n",
    "segment_year_counts = merged_df.groupby(['Monetary_Segment', merged_df['t_dat'].dt.year])['customer_id'].nunique().reset_index()\n",
    "\n",
    "#Calculating the YoY change\n",
    "segment_year_counts['YoY Change'] = segment_year_counts.groupby('Monetary_Segment')['customer_id'].pct_change() * 100\n",
    "\n",
    "segment_year_counts = segment_year_counts.rename(columns={'t_dat': 'year', 'customer_id': 'No. of customers'})\n",
    "\n",
    "segment_year_counts\n"
   ]
  },
  {
   "cell_type": "code",
   "execution_count": 29,
   "id": "35098045",
   "metadata": {
    "execution": {
     "iopub.execute_input": "2023-12-18T08:46:56.969867Z",
     "iopub.status.busy": "2023-12-18T08:46:56.969024Z",
     "iopub.status.idle": "2023-12-18T08:47:02.652298Z",
     "shell.execute_reply": "2023-12-18T08:47:02.650763Z"
    },
    "papermill": {
     "duration": 5.705912,
     "end_time": "2023-12-18T08:47:02.656457",
     "exception": false,
     "start_time": "2023-12-18T08:46:56.950545",
     "status": "completed"
    },
    "tags": []
   },
   "outputs": [
    {
     "data": {
      "image/png": "[encoded data removed]",
      "text/plain": [
       "<Figure size 1200x800 with 1 Axes>"
      ]
     },
     "metadata": {},
     "output_type": "display_data"
    }
   ],
   "source": [
    "#Grouping the data by year and sales channel\n",
    "sales_by_year_channel = merged_df.groupby(['year', 'sales_channel_id'])['price'].sum().reset_index()\n",
    "\n",
    "#Defining a custom red color palette\n",
    "red_palette = ['#FF5733', '#FFDAC9']\n",
    "\n",
    "#Creating a Seaborn bar plot with the custom red color palette\n",
    "plt.figure(figsize=(12, 8))\n",
    "sns.set_palette(red_palette)  # Set the color palette\n",
    "sns.barplot(data=sales_by_year_channel, x='year', y='price', hue='sales_channel_id')\n",
    "plt.title('Sales Value for Each Year through Channels')\n",
    "plt.xlabel('Year')\n",
    "plt.ylabel('Sales Value')\n",
    "plt.legend(title='Channel')\n",
    "plt.show()"
   ]
  },
  {
   "cell_type": "code",
   "execution_count": 30,
   "id": "843e0ae7",
   "metadata": {
    "execution": {
     "iopub.execute_input": "2023-12-18T08:47:02.692153Z",
     "iopub.status.busy": "2023-12-18T08:47:02.691672Z",
     "iopub.status.idle": "2023-12-18T08:47:02.705336Z",
     "shell.execute_reply": "2023-12-18T08:47:02.703878Z"
    },
    "papermill": {
     "duration": 0.034706,
     "end_time": "2023-12-18T08:47:02.707793",
     "exception": false,
     "start_time": "2023-12-18T08:47:02.673087",
     "status": "completed"
    },
    "tags": []
   },
   "outputs": [
    {
     "data": {
      "text/html": [
       "<div>\n",
       "<style scoped>\n",
       "    .dataframe tbody tr th:only-of-type {\n",
       "        vertical-align: middle;\n",
       "    }\n",
       "\n",
       "    .dataframe tbody tr th {\n",
       "        vertical-align: top;\n",
       "    }\n",
       "\n",
       "    .dataframe thead th {\n",
       "        text-align: right;\n",
       "    }\n",
       "</style>\n",
       "<table border=\"1\" class=\"dataframe\">\n",
       "  <thead>\n",
       "    <tr style=\"text-align: right;\">\n",
       "      <th></th>\n",
       "      <th>year</th>\n",
       "      <th>sales_channel_id</th>\n",
       "      <th>price</th>\n",
       "    </tr>\n",
       "  </thead>\n",
       "  <tbody>\n",
       "    <tr>\n",
       "      <th>0</th>\n",
       "      <td>2018</td>\n",
       "      <td>1</td>\n",
       "      <td>36388.889085</td>\n",
       "    </tr>\n",
       "    <tr>\n",
       "      <th>1</th>\n",
       "      <td>2018</td>\n",
       "      <td>2</td>\n",
       "      <td>94485.070220</td>\n",
       "    </tr>\n",
       "    <tr>\n",
       "      <th>2</th>\n",
       "      <td>2019</td>\n",
       "      <td>1</td>\n",
       "      <td>114339.123169</td>\n",
       "    </tr>\n",
       "    <tr>\n",
       "      <th>3</th>\n",
       "      <td>2019</td>\n",
       "      <td>2</td>\n",
       "      <td>341265.754797</td>\n",
       "    </tr>\n",
       "    <tr>\n",
       "      <th>4</th>\n",
       "      <td>2020</td>\n",
       "      <td>1</td>\n",
       "      <td>64954.815661</td>\n",
       "    </tr>\n",
       "    <tr>\n",
       "      <th>5</th>\n",
       "      <td>2020</td>\n",
       "      <td>2</td>\n",
       "      <td>233212.321119</td>\n",
       "    </tr>\n",
       "  </tbody>\n",
       "</table>\n",
       "</div>"
      ],
      "text/plain": [
       "   year sales_channel_id          price\n",
       "0  2018                1   36388.889085\n",
       "1  2018                2   94485.070220\n",
       "2  2019                1  114339.123169\n",
       "3  2019                2  341265.754797\n",
       "4  2020                1   64954.815661\n",
       "5  2020                2  233212.321119"
      ]
     },
     "execution_count": 30,
     "metadata": {},
     "output_type": "execute_result"
    }
   ],
   "source": [
    "sales_by_year_channel"
   ]
  },
  {
   "cell_type": "code",
   "execution_count": 31,
   "id": "ba3ed0b4",
   "metadata": {
    "execution": {
     "iopub.execute_input": "2023-12-18T08:47:02.741945Z",
     "iopub.status.busy": "2023-12-18T08:47:02.741543Z",
     "iopub.status.idle": "2023-12-18T08:47:10.136055Z",
     "shell.execute_reply": "2023-12-18T08:47:10.134209Z"
    },
    "papermill": {
     "duration": 7.414825,
     "end_time": "2023-12-18T08:47:10.138935",
     "exception": false,
     "start_time": "2023-12-18T08:47:02.724110",
     "status": "completed"
    },
    "tags": []
   },
   "outputs": [
    {
     "data": {
      "text/plain": [
       "<Figure size 1200x800 with 0 Axes>"
      ]
     },
     "metadata": {},
     "output_type": "display_data"
    },
    {
     "data": {
      "image/png": "[encoded data removed]",
      "text/plain": [
       "<Figure size 640x480 with 1 Axes>"
      ]
     },
     "metadata": {},
     "output_type": "display_data"
    }
   ],
   "source": [
    "sales_channel_preference = merged_df.groupby(['sales_channel_id', 'Monetary_Segment'])['customer_id'].count().reset_index()\n",
    "#Defining a custom red color palette\n",
    "red_palette = ['#FF5733','#FF9E72', '#FFDAC9']\n",
    "\n",
    "#Pivoting the data to prepare for the stacked bar chart\n",
    "pivot_table = sales_channel_preference.pivot(index='sales_channel_id', columns='Monetary_Segment', values='customer_id')\n",
    "\n",
    "#Creating the stacked bar chart using Matplotlib\n",
    "plt.figure(figsize=(12, 8))\n",
    "ax = pivot_table.plot(kind='bar', stacked=True, color=red_palette)\n",
    "plt.title('Sales Channel Preference by Customer Segment')\n",
    "plt.xlabel('Sales Channel')\n",
    "plt.ylabel('Customer Count')\n",
    "plt.xticks(rotation=0)  # Rotate x-axis labels if needed\n",
    "plt.legend(title='Customer Segment')\n",
    "\n",
    "#Format y-axis labels as integers\n",
    "ax.get_yaxis().set_major_formatter(plt.FuncFormatter(lambda x, loc: \"{:,}\".format(int(x))))\n",
    "\n",
    "plt.show()\n"
   ]
  },
  {
   "cell_type": "code",
   "execution_count": 32,
   "id": "626757ef",
   "metadata": {
    "execution": {
     "iopub.execute_input": "2023-12-18T08:47:10.175676Z",
     "iopub.status.busy": "2023-12-18T08:47:10.175271Z",
     "iopub.status.idle": "2023-12-18T08:47:10.190427Z",
     "shell.execute_reply": "2023-12-18T08:47:10.188501Z"
    },
    "papermill": {
     "duration": 0.036329,
     "end_time": "2023-12-18T08:47:10.193004",
     "exception": false,
     "start_time": "2023-12-18T08:47:10.156675",
     "status": "completed"
    },
    "tags": []
   },
   "outputs": [
    {
     "data": {
      "text/html": [
       "<div>\n",
       "<style scoped>\n",
       "    .dataframe tbody tr th:only-of-type {\n",
       "        vertical-align: middle;\n",
       "    }\n",
       "\n",
       "    .dataframe tbody tr th {\n",
       "        vertical-align: top;\n",
       "    }\n",
       "\n",
       "    .dataframe thead th {\n",
       "        text-align: right;\n",
       "    }\n",
       "</style>\n",
       "<table border=\"1\" class=\"dataframe\">\n",
       "  <thead>\n",
       "    <tr style=\"text-align: right;\">\n",
       "      <th></th>\n",
       "      <th>sales_channel_id</th>\n",
       "      <th>Monetary_Segment</th>\n",
       "      <th>customer_id</th>\n",
       "    </tr>\n",
       "  </thead>\n",
       "  <tbody>\n",
       "    <tr>\n",
       "      <th>0</th>\n",
       "      <td>1</td>\n",
       "      <td>Low-Value Customer</td>\n",
       "      <td>3372268</td>\n",
       "    </tr>\n",
       "    <tr>\n",
       "      <th>1</th>\n",
       "      <td>1</td>\n",
       "      <td>Medium-Value Customer</td>\n",
       "      <td>3123854</td>\n",
       "    </tr>\n",
       "    <tr>\n",
       "      <th>2</th>\n",
       "      <td>1</td>\n",
       "      <td>High-Value Customer</td>\n",
       "      <td>2912340</td>\n",
       "    </tr>\n",
       "    <tr>\n",
       "      <th>3</th>\n",
       "      <td>2</td>\n",
       "      <td>Low-Value Customer</td>\n",
       "      <td>4576160</td>\n",
       "    </tr>\n",
       "    <tr>\n",
       "      <th>4</th>\n",
       "      <td>2</td>\n",
       "      <td>Medium-Value Customer</td>\n",
       "      <td>7754430</td>\n",
       "    </tr>\n",
       "    <tr>\n",
       "      <th>5</th>\n",
       "      <td>2</td>\n",
       "      <td>High-Value Customer</td>\n",
       "      <td>10049272</td>\n",
       "    </tr>\n",
       "  </tbody>\n",
       "</table>\n",
       "</div>"
      ],
      "text/plain": [
       "  sales_channel_id       Monetary_Segment  customer_id\n",
       "0                1     Low-Value Customer      3372268\n",
       "1                1  Medium-Value Customer      3123854\n",
       "2                1    High-Value Customer      2912340\n",
       "3                2     Low-Value Customer      4576160\n",
       "4                2  Medium-Value Customer      7754430\n",
       "5                2    High-Value Customer     10049272"
      ]
     },
     "execution_count": 32,
     "metadata": {},
     "output_type": "execute_result"
    }
   ],
   "source": [
    "sales_channel_preference"
   ]
  },
  {
   "cell_type": "code",
   "execution_count": 33,
   "id": "9a646100",
   "metadata": {
    "execution": {
     "iopub.execute_input": "2023-12-18T08:47:10.230262Z",
     "iopub.status.busy": "2023-12-18T08:47:10.229826Z",
     "iopub.status.idle": "2023-12-18T08:47:19.885099Z",
     "shell.execute_reply": "2023-12-18T08:47:19.883675Z"
    },
    "papermill": {
     "duration": 9.677028,
     "end_time": "2023-12-18T08:47:19.887400",
     "exception": false,
     "start_time": "2023-12-18T08:47:10.210372",
     "status": "completed"
    },
    "tags": []
   },
   "outputs": [
    {
     "data": {
      "text/html": [
       "        <script type=\"text/javascript\">\n",
       "        window.PlotlyConfig = {MathJaxConfig: 'local'};\n",
       "        if (window.MathJax && window.MathJax.Hub && window.MathJax.Hub.Config) {window.MathJax.Hub.Config({SVG: {font: \"STIX-Web\"}});}\n",
       "        if (typeof require !== 'undefined') {\n",
       "        require.undef(\"plotly\");\n",
       "        requirejs.config({\n",
       "            paths: {\n",
       "                'plotly': ['https://cdn.plot.ly/plotly-2.25.2.min']\n",
       "            }\n",
       "        });\n",
       "        require(['plotly'], function(Plotly) {\n",
       "            window._Plotly = Plotly;\n",
       "        });\n",
       "        }\n",
       "        </script>\n",
       "        "
      ]
     },
     "metadata": {},
     "output_type": "display_data"
    },
    {
     "data": {
      "text/html": [
       "<div>                            <div id=\"3f05e573-a828-45f5-bea8-cfd996a47908\" class=\"plotly-graph-div\" style=\"height:525px; width:100%;\"></div>            <script type=\"text/javascript\">                require([\"plotly\"], function(Plotly) {                    window.PLOTLYENV=window.PLOTLYENV || {};                                    if (document.getElementById(\"3f05e573-a828-45f5-bea8-cfd996a47908\")) {                    Plotly.newPlot(                        \"3f05e573-a828-45f5-bea8-cfd996a47908\",                        [{\"branchvalues\":\"total\",\"domain\":{\"x\":[0.0,1.0],\"y\":[0.0,1.0]},\"hovertemplate\":\"labels=%{label}\\u003cbr\\u003eSales Value=%{value}\\u003cbr\\u003eparent=%{parent}\\u003cbr\\u003eid=%{id}\\u003cextra\\u003e\\u003c\\u002fextra\\u003e\",\"ids\":[\"Baby\\u002fChildren\\u002f1\",\"Divided\\u002f1\",\"Ladieswear\\u002f1\",\"Menswear\\u002f1\",\"Sport\\u002f1\",\"Baby\\u002fChildren\\u002f2\",\"Divided\\u002f2\",\"Ladieswear\\u002f2\",\"Menswear\\u002f2\",\"Sport\\u002f2\",\"Baby\\u002fChildren\",\"Divided\",\"Ladieswear\",\"Menswear\",\"Sport\"],\"labels\":[\"1\",\"1\",\"1\",\"1\",\"1\",\"2\",\"2\",\"2\",\"2\",\"2\",\"Baby\\u002fChildren\",\"Divided\",\"Ladieswear\",\"Menswear\",\"Sport\"],\"name\":\"\",\"parents\":[\"Baby\\u002fChildren\",\"Divided\",\"Ladieswear\",\"Menswear\",\"Sport\",\"Baby\\u002fChildren\",\"Divided\",\"Ladieswear\",\"Menswear\",\"Sport\",\"\",\"\",\"\",\"\",\"\"],\"values\":[8298.601237288114,36798.71547457619,140660.06513559294,19755.64038983047,10169.805677966084,15223.997135593185,152471.3275423726,446612.10808474506,28959.996440677918,25695.716932203348,23522.5983728813,189270.0430169488,587272.1732203381,48715.63683050839,35865.52261016943],\"type\":\"sunburst\"}],                        {\"template\":{\"data\":{\"histogram2dcontour\":[{\"type\":\"histogram2dcontour\",\"colorbar\":{\"outlinewidth\":0,\"ticks\":\"\"},\"colorscale\":[[0.0,\"#0d0887\"],[0.1111111111111111,\"#46039f\"],[0.2222222222222222,\"#7201a8\"],[0.3333333333333333,\"#9c179e\"],[0.4444444444444444,\"#bd3786\"],[0.5555555555555556,\"#d8576b\"],[0.6666666666666666,\"#ed7953\"],[0.7777777777777778,\"#fb9f3a\"],[0.8888888888888888,\"#fdca26\"],[1.0,\"#f0f921\"]]}],\"choropleth\":[{\"type\":\"choropleth\",\"colorbar\":{\"outlinewidth\":0,\"ticks\":\"\"}}],\"histogram2d\":[{\"type\":\"histogram2d\",\"colorbar\":{\"outlinewidth\":0,\"ticks\":\"\"},\"colorscale\":[[0.0,\"#0d0887\"],[0.1111111111111111,\"#46039f\"],[0.2222222222222222,\"#7201a8\"],[0.3333333333333333,\"#9c179e\"],[0.4444444444444444,\"#bd3786\"],[0.5555555555555556,\"#d8576b\"],[0.6666666666666666,\"#ed7953\"],[0.7777777777777778,\"#fb9f3a\"],[0.8888888888888888,\"#fdca26\"],[1.0,\"#f0f921\"]]}],\"heatmap\":[{\"type\":\"heatmap\",\"colorbar\":{\"outlinewidth\":0,\"ticks\":\"\"},\"colorscale\":[[0.0,\"#0d0887\"],[0.1111111111111111,\"#46039f\"],[0.2222222222222222,\"#7201a8\"],[0.3333333333333333,\"#9c179e\"],[0.4444444444444444,\"#bd3786\"],[0.5555555555555556,\"#d8576b\"],[0.6666666666666666,\"#ed7953\"],[0.7777777777777778,\"#fb9f3a\"],[0.8888888888888888,\"#fdca26\"],[1.0,\"#f0f921\"]]}],\"heatmapgl\":[{\"type\":\"heatmapgl\",\"colorbar\":{\"outlinewidth\":0,\"ticks\":\"\"},\"colorscale\":[[0.0,\"#0d0887\"],[0.1111111111111111,\"#46039f\"],[0.2222222222222222,\"#7201a8\"],[0.3333333333333333,\"#9c179e\"],[0.4444444444444444,\"#bd3786\"],[0.5555555555555556,\"#d8576b\"],[0.6666666666666666,\"#ed7953\"],[0.7777777777777778,\"#fb9f3a\"],[0.8888888888888888,\"#fdca26\"],[1.0,\"#f0f921\"]]}],\"contourcarpet\":[{\"type\":\"contourcarpet\",\"colorbar\":{\"outlinewidth\":0,\"ticks\":\"\"}}],\"contour\":[{\"type\":\"contour\",\"colorbar\":{\"outlinewidth\":0,\"ticks\":\"\"},\"colorscale\":[[0.0,\"#0d0887\"],[0.1111111111111111,\"#46039f\"],[0.2222222222222222,\"#7201a8\"],[0.3333333333333333,\"#9c179e\"],[0.4444444444444444,\"#bd3786\"],[0.5555555555555556,\"#d8576b\"],[0.6666666666666666,\"#ed7953\"],[0.7777777777777778,\"#fb9f3a\"],[0.8888888888888888,\"#fdca26\"],[1.0,\"#f0f921\"]]}],\"surface\":[{\"type\":\"surface\",\"colorbar\":{\"outlinewidth\":0,\"ticks\":\"\"},\"colorscale\":[[0.0,\"#0d0887\"],[0.1111111111111111,\"#46039f\"],[0.2222222222222222,\"#7201a8\"],[0.3333333333333333,\"#9c179e\"],[0.4444444444444444,\"#bd3786\"],[0.5555555555555556,\"#d8576b\"],[0.6666666666666666,\"#ed7953\"],[0.7777777777777778,\"#fb9f3a\"],[0.8888888888888888,\"#fdca26\"],[1.0,\"#f0f921\"]]}],\"mesh3d\":[{\"type\":\"mesh3d\",\"colorbar\":{\"outlinewidth\":0,\"ticks\":\"\"}}],\"scatter\":[{\"fillpattern\":{\"fillmode\":\"overlay\",\"size\":10,\"solidity\":0.2},\"type\":\"scatter\"}],\"parcoords\":[{\"type\":\"parcoords\",\"line\":{\"colorbar\":{\"outlinewidth\":0,\"ticks\":\"\"}}}],\"scatterpolargl\":[{\"type\":\"scatterpolargl\",\"marker\":{\"colorbar\":{\"outlinewidth\":0,\"ticks\":\"\"}}}],\"bar\":[{\"error_x\":{\"color\":\"#2a3f5f\"},\"error_y\":{\"color\":\"#2a3f5f\"},\"marker\":{\"line\":{\"color\":\"#E5ECF6\",\"width\":0.5},\"pattern\":{\"fillmode\":\"overlay\",\"size\":10,\"solidity\":0.2}},\"type\":\"bar\"}],\"scattergeo\":[{\"type\":\"scattergeo\",\"marker\":{\"colorbar\":{\"outlinewidth\":0,\"ticks\":\"\"}}}],\"scatterpolar\":[{\"type\":\"scatterpolar\",\"marker\":{\"colorbar\":{\"outlinewidth\":0,\"ticks\":\"\"}}}],\"histogram\":[{\"marker\":{\"pattern\":{\"fillmode\":\"overlay\",\"size\":10,\"solidity\":0.2}},\"type\":\"histogram\"}],\"scattergl\":[{\"type\":\"scattergl\",\"marker\":{\"colorbar\":{\"outlinewidth\":0,\"ticks\":\"\"}}}],\"scatter3d\":[{\"type\":\"scatter3d\",\"line\":{\"colorbar\":{\"outlinewidth\":0,\"ticks\":\"\"}},\"marker\":{\"colorbar\":{\"outlinewidth\":0,\"ticks\":\"\"}}}],\"scattermapbox\":[{\"type\":\"scattermapbox\",\"marker\":{\"colorbar\":{\"outlinewidth\":0,\"ticks\":\"\"}}}],\"scatterternary\":[{\"type\":\"scatterternary\",\"marker\":{\"colorbar\":{\"outlinewidth\":0,\"ticks\":\"\"}}}],\"scattercarpet\":[{\"type\":\"scattercarpet\",\"marker\":{\"colorbar\":{\"outlinewidth\":0,\"ticks\":\"\"}}}],\"carpet\":[{\"aaxis\":{\"endlinecolor\":\"#2a3f5f\",\"gridcolor\":\"white\",\"linecolor\":\"white\",\"minorgridcolor\":\"white\",\"startlinecolor\":\"#2a3f5f\"},\"baxis\":{\"endlinecolor\":\"#2a3f5f\",\"gridcolor\":\"white\",\"linecolor\":\"white\",\"minorgridcolor\":\"white\",\"startlinecolor\":\"#2a3f5f\"},\"type\":\"carpet\"}],\"table\":[{\"cells\":{\"fill\":{\"color\":\"#EBF0F8\"},\"line\":{\"color\":\"white\"}},\"header\":{\"fill\":{\"color\":\"#C8D4E3\"},\"line\":{\"color\":\"white\"}},\"type\":\"table\"}],\"barpolar\":[{\"marker\":{\"line\":{\"color\":\"#E5ECF6\",\"width\":0.5},\"pattern\":{\"fillmode\":\"overlay\",\"size\":10,\"solidity\":0.2}},\"type\":\"barpolar\"}],\"pie\":[{\"automargin\":true,\"type\":\"pie\"}]},\"layout\":{\"autotypenumbers\":\"strict\",\"colorway\":[\"#636efa\",\"#EF553B\",\"#00cc96\",\"#ab63fa\",\"#FFA15A\",\"#19d3f3\",\"#FF6692\",\"#B6E880\",\"#FF97FF\",\"#FECB52\"],\"font\":{\"color\":\"#2a3f5f\"},\"hovermode\":\"closest\",\"hoverlabel\":{\"align\":\"left\"},\"paper_bgcolor\":\"white\",\"plot_bgcolor\":\"#E5ECF6\",\"polar\":{\"bgcolor\":\"#E5ECF6\",\"angularaxis\":{\"gridcolor\":\"white\",\"linecolor\":\"white\",\"ticks\":\"\"},\"radialaxis\":{\"gridcolor\":\"white\",\"linecolor\":\"white\",\"ticks\":\"\"}},\"ternary\":{\"bgcolor\":\"#E5ECF6\",\"aaxis\":{\"gridcolor\":\"white\",\"linecolor\":\"white\",\"ticks\":\"\"},\"baxis\":{\"gridcolor\":\"white\",\"linecolor\":\"white\",\"ticks\":\"\"},\"caxis\":{\"gridcolor\":\"white\",\"linecolor\":\"white\",\"ticks\":\"\"}},\"coloraxis\":{\"colorbar\":{\"outlinewidth\":0,\"ticks\":\"\"}},\"colorscale\":{\"sequential\":[[0.0,\"#0d0887\"],[0.1111111111111111,\"#46039f\"],[0.2222222222222222,\"#7201a8\"],[0.3333333333333333,\"#9c179e\"],[0.4444444444444444,\"#bd3786\"],[0.5555555555555556,\"#d8576b\"],[0.6666666666666666,\"#ed7953\"],[0.7777777777777778,\"#fb9f3a\"],[0.8888888888888888,\"#fdca26\"],[1.0,\"#f0f921\"]],\"sequentialminus\":[[0.0,\"#0d0887\"],[0.1111111111111111,\"#46039f\"],[0.2222222222222222,\"#7201a8\"],[0.3333333333333333,\"#9c179e\"],[0.4444444444444444,\"#bd3786\"],[0.5555555555555556,\"#d8576b\"],[0.6666666666666666,\"#ed7953\"],[0.7777777777777778,\"#fb9f3a\"],[0.8888888888888888,\"#fdca26\"],[1.0,\"#f0f921\"]],\"diverging\":[[0,\"#8e0152\"],[0.1,\"#c51b7d\"],[0.2,\"#de77ae\"],[0.3,\"#f1b6da\"],[0.4,\"#fde0ef\"],[0.5,\"#f7f7f7\"],[0.6,\"#e6f5d0\"],[0.7,\"#b8e186\"],[0.8,\"#7fbc41\"],[0.9,\"#4d9221\"],[1,\"#276419\"]]},\"xaxis\":{\"gridcolor\":\"white\",\"linecolor\":\"white\",\"ticks\":\"\",\"title\":{\"standoff\":15},\"zerolinecolor\":\"white\",\"automargin\":true,\"zerolinewidth\":2},\"yaxis\":{\"gridcolor\":\"white\",\"linecolor\":\"white\",\"ticks\":\"\",\"title\":{\"standoff\":15},\"zerolinecolor\":\"white\",\"automargin\":true,\"zerolinewidth\":2},\"scene\":{\"xaxis\":{\"backgroundcolor\":\"#E5ECF6\",\"gridcolor\":\"white\",\"linecolor\":\"white\",\"showbackground\":true,\"ticks\":\"\",\"zerolinecolor\":\"white\",\"gridwidth\":2},\"yaxis\":{\"backgroundcolor\":\"#E5ECF6\",\"gridcolor\":\"white\",\"linecolor\":\"white\",\"showbackground\":true,\"ticks\":\"\",\"zerolinecolor\":\"white\",\"gridwidth\":2},\"zaxis\":{\"backgroundcolor\":\"#E5ECF6\",\"gridcolor\":\"white\",\"linecolor\":\"white\",\"showbackground\":true,\"ticks\":\"\",\"zerolinecolor\":\"white\",\"gridwidth\":2}},\"shapedefaults\":{\"line\":{\"color\":\"#2a3f5f\"}},\"annotationdefaults\":{\"arrowcolor\":\"#2a3f5f\",\"arrowhead\":0,\"arrowwidth\":1},\"geo\":{\"bgcolor\":\"white\",\"landcolor\":\"#E5ECF6\",\"subunitcolor\":\"white\",\"showland\":true,\"showlakes\":true,\"lakecolor\":\"white\"},\"title\":{\"x\":0.05},\"mapbox\":{\"style\":\"light\"}}},\"legend\":{\"tracegroupgap\":0},\"title\":{\"text\":\"Sales Channel Preference by Product Type\",\"font\":{\"size\":20}},\"sunburstcolorway\":[\"#FF5733\",\"#FF794E\",\"#FF9E72\",\"#FFBFA1\",\"#FFDAC9\"],\"margin\":{\"t\":50,\"l\":50,\"r\":50,\"b\":50}},                        {\"responsive\": true}                    ).then(function(){\n",
       "                            \n",
       "var gd = document.getElementById('3f05e573-a828-45f5-bea8-cfd996a47908');\n",
       "var x = new MutationObserver(function (mutations, observer) {{\n",
       "        var display = window.getComputedStyle(gd).display;\n",
       "        if (!display || display === 'none') {{\n",
       "            console.log([gd, 'removed!']);\n",
       "            Plotly.purge(gd);\n",
       "            observer.disconnect();\n",
       "        }}\n",
       "}});\n",
       "\n",
       "// Listen for the removal of the full notebook cells\n",
       "var notebookContainer = gd.closest('#notebook-container');\n",
       "if (notebookContainer) {{\n",
       "    x.observe(notebookContainer, {childList: true});\n",
       "}}\n",
       "\n",
       "// Listen for the clearing of the current output cell\n",
       "var outputEl = gd.closest('.output');\n",
       "if (outputEl) {{\n",
       "    x.observe(outputEl, {childList: true});\n",
       "}}\n",
       "\n",
       "                        })                };                });            </script>        </div>"
      ]
     },
     "metadata": {},
     "output_type": "display_data"
    }
   ],
   "source": [
    "#Grouping data by product type and sales channel and calculate the total sales value\n",
    "grouped_data = merged_df.groupby(['index_group_name', 'sales_channel_id'])['price'].sum().reset_index()\n",
    "\n",
    "#Creating a custom red color palette\n",
    "red_palette = ['#FF5733', '#FF794E', '#FF9E72', '#FFBFA1', '#FFDAC9']\n",
    "\n",
    "#Creating sunburst chart\n",
    "fig = px.sunburst(\n",
    "    grouped_data,\n",
    "    path=['index_group_name', 'sales_channel_id'],\n",
    "    values='price',\n",
    "    title='Sales Channel Preference by Product Type',\n",
    "    color_discrete_sequence=red_palette,  # Set a custom red color palette\n",
    "    labels={'price': 'Sales Value', 'index_group_name': 'Product Type'},\n",
    ")\n",
    "\n",
    "#Customizing the layout\n",
    "fig.update_layout(\n",
    "    margin=dict(t=50, l=50, r=50, b=50),  # Set margins\n",
    "    title_font=dict(size=20),  # Adjust the title font size\n",
    ")\n",
    "\n",
    "#Displaying the sunburst chart\n",
    "fig.show()"
   ]
  },
  {
   "cell_type": "code",
   "execution_count": 34,
   "id": "605e2fea",
   "metadata": {
    "execution": {
     "iopub.execute_input": "2023-12-18T08:47:19.928326Z",
     "iopub.status.busy": "2023-12-18T08:47:19.926651Z",
     "iopub.status.idle": "2023-12-18T08:47:19.943396Z",
     "shell.execute_reply": "2023-12-18T08:47:19.940367Z"
    },
    "papermill": {
     "duration": 0.039965,
     "end_time": "2023-12-18T08:47:19.946265",
     "exception": false,
     "start_time": "2023-12-18T08:47:19.906300",
     "status": "completed"
    },
    "tags": []
   },
   "outputs": [
    {
     "data": {
      "text/html": [
       "<div>\n",
       "<style scoped>\n",
       "    .dataframe tbody tr th:only-of-type {\n",
       "        vertical-align: middle;\n",
       "    }\n",
       "\n",
       "    .dataframe tbody tr th {\n",
       "        vertical-align: top;\n",
       "    }\n",
       "\n",
       "    .dataframe thead th {\n",
       "        text-align: right;\n",
       "    }\n",
       "</style>\n",
       "<table border=\"1\" class=\"dataframe\">\n",
       "  <thead>\n",
       "    <tr style=\"text-align: right;\">\n",
       "      <th></th>\n",
       "      <th>index_group_name</th>\n",
       "      <th>sales_channel_id</th>\n",
       "      <th>price</th>\n",
       "    </tr>\n",
       "  </thead>\n",
       "  <tbody>\n",
       "    <tr>\n",
       "      <th>0</th>\n",
       "      <td>Baby/Children</td>\n",
       "      <td>1</td>\n",
       "      <td>8298.601237</td>\n",
       "    </tr>\n",
       "    <tr>\n",
       "      <th>1</th>\n",
       "      <td>Baby/Children</td>\n",
       "      <td>2</td>\n",
       "      <td>15223.997136</td>\n",
       "    </tr>\n",
       "    <tr>\n",
       "      <th>2</th>\n",
       "      <td>Divided</td>\n",
       "      <td>1</td>\n",
       "      <td>36798.715475</td>\n",
       "    </tr>\n",
       "    <tr>\n",
       "      <th>3</th>\n",
       "      <td>Divided</td>\n",
       "      <td>2</td>\n",
       "      <td>152471.327542</td>\n",
       "    </tr>\n",
       "    <tr>\n",
       "      <th>4</th>\n",
       "      <td>Ladieswear</td>\n",
       "      <td>1</td>\n",
       "      <td>140660.065136</td>\n",
       "    </tr>\n",
       "    <tr>\n",
       "      <th>5</th>\n",
       "      <td>Ladieswear</td>\n",
       "      <td>2</td>\n",
       "      <td>446612.108085</td>\n",
       "    </tr>\n",
       "    <tr>\n",
       "      <th>6</th>\n",
       "      <td>Menswear</td>\n",
       "      <td>1</td>\n",
       "      <td>19755.640390</td>\n",
       "    </tr>\n",
       "    <tr>\n",
       "      <th>7</th>\n",
       "      <td>Menswear</td>\n",
       "      <td>2</td>\n",
       "      <td>28959.996441</td>\n",
       "    </tr>\n",
       "    <tr>\n",
       "      <th>8</th>\n",
       "      <td>Sport</td>\n",
       "      <td>1</td>\n",
       "      <td>10169.805678</td>\n",
       "    </tr>\n",
       "    <tr>\n",
       "      <th>9</th>\n",
       "      <td>Sport</td>\n",
       "      <td>2</td>\n",
       "      <td>25695.716932</td>\n",
       "    </tr>\n",
       "  </tbody>\n",
       "</table>\n",
       "</div>"
      ],
      "text/plain": [
       "  index_group_name sales_channel_id          price\n",
       "0    Baby/Children                1    8298.601237\n",
       "1    Baby/Children                2   15223.997136\n",
       "2          Divided                1   36798.715475\n",
       "3          Divided                2  152471.327542\n",
       "4       Ladieswear                1  140660.065136\n",
       "5       Ladieswear                2  446612.108085\n",
       "6         Menswear                1   19755.640390\n",
       "7         Menswear                2   28959.996441\n",
       "8            Sport                1   10169.805678\n",
       "9            Sport                2   25695.716932"
      ]
     },
     "execution_count": 34,
     "metadata": {},
     "output_type": "execute_result"
    }
   ],
   "source": [
    "grouped_data"
   ]
  },
  {
   "cell_type": "code",
   "execution_count": 35,
   "id": "a1d4cf1a",
   "metadata": {
    "execution": {
     "iopub.execute_input": "2023-12-18T08:47:19.986388Z",
     "iopub.status.busy": "2023-12-18T08:47:19.985973Z",
     "iopub.status.idle": "2023-12-18T08:47:20.221639Z",
     "shell.execute_reply": "2023-12-18T08:47:20.220278Z"
    },
    "papermill": {
     "duration": 0.260032,
     "end_time": "2023-12-18T08:47:20.224206",
     "exception": false,
     "start_time": "2023-12-18T08:47:19.964174",
     "status": "completed"
    },
    "tags": []
   },
   "outputs": [
    {
     "data": {
      "text/plain": [
       "4592"
      ]
     },
     "execution_count": 35,
     "metadata": {},
     "output_type": "execute_result"
    }
   ],
   "source": [
    "del segment_year_counts\n",
    "del sales_by_year_channel\n",
    "del sales_channel_preference\n",
    "del grouped_data\n",
    "gc.collect()"
   ]
  },
  {
   "cell_type": "code",
   "execution_count": 36,
   "id": "4ef7ab29",
   "metadata": {
    "execution": {
     "iopub.execute_input": "2023-12-18T08:47:20.263291Z",
     "iopub.status.busy": "2023-12-18T08:47:20.262856Z",
     "iopub.status.idle": "2023-12-18T08:47:25.378525Z",
     "shell.execute_reply": "2023-12-18T08:47:25.376895Z"
    },
    "papermill": {
     "duration": 5.138905,
     "end_time": "2023-12-18T08:47:25.381208",
     "exception": false,
     "start_time": "2023-12-18T08:47:20.242303",
     "status": "completed"
    },
    "tags": []
   },
   "outputs": [],
   "source": [
    "#Communication Frequency Analysis\n",
    "frequency_distribution = merged_df['fashion_news_frequency'].value_counts()\n",
    "\n",
    "#Create Customer Segments (e.g., age groups)\n",
    "merged_df['AgeGroup'] = pd.cut(merged_df['age'], bins=[0,18, 30, 40, 50, 60, float('inf')],\n",
    "                                   labels=['<18','18-30', '30-40', '40-50', '50-60', '60+'])\n",
    "\n",
    "#Analyze Communication Frequency by Age Group\n",
    "communication_by_age = merged_df.groupby('AgeGroup')['fashion_news_frequency'].value_counts()\n",
    "\n",
    "#Spending Habits Analysis\n",
    "spending_by_age_group = merged_df.groupby('AgeGroup')['price'].max()"
   ]
  },
  {
   "cell_type": "code",
   "execution_count": 37,
   "id": "820478fb",
   "metadata": {
    "execution": {
     "iopub.execute_input": "2023-12-18T08:47:25.420480Z",
     "iopub.status.busy": "2023-12-18T08:47:25.420067Z",
     "iopub.status.idle": "2023-12-18T08:47:25.428888Z",
     "shell.execute_reply": "2023-12-18T08:47:25.427379Z"
    },
    "papermill": {
     "duration": 0.032096,
     "end_time": "2023-12-18T08:47:25.431820",
     "exception": false,
     "start_time": "2023-12-18T08:47:25.399724",
     "status": "completed"
    },
    "tags": []
   },
   "outputs": [],
   "source": [
    "communication_by_age = communication_by_age.reset_index()"
   ]
  },
  {
   "cell_type": "code",
   "execution_count": 38,
   "id": "115784a4",
   "metadata": {
    "execution": {
     "iopub.execute_input": "2023-12-18T08:47:25.472495Z",
     "iopub.status.busy": "2023-12-18T08:47:25.472039Z",
     "iopub.status.idle": "2023-12-18T08:47:25.486513Z",
     "shell.execute_reply": "2023-12-18T08:47:25.484347Z"
    },
    "papermill": {
     "duration": 0.037852,
     "end_time": "2023-12-18T08:47:25.489456",
     "exception": false,
     "start_time": "2023-12-18T08:47:25.451604",
     "status": "completed"
    },
    "tags": []
   },
   "outputs": [
    {
     "data": {
      "text/html": [
       "<div>\n",
       "<style scoped>\n",
       "    .dataframe tbody tr th:only-of-type {\n",
       "        vertical-align: middle;\n",
       "    }\n",
       "\n",
       "    .dataframe tbody tr th {\n",
       "        vertical-align: top;\n",
       "    }\n",
       "\n",
       "    .dataframe thead th {\n",
       "        text-align: right;\n",
       "    }\n",
       "</style>\n",
       "<table border=\"1\" class=\"dataframe\">\n",
       "  <thead>\n",
       "    <tr style=\"text-align: right;\">\n",
       "      <th></th>\n",
       "      <th>AgeGroup</th>\n",
       "      <th>fashion_news_frequency</th>\n",
       "      <th>count</th>\n",
       "    </tr>\n",
       "  </thead>\n",
       "  <tbody>\n",
       "    <tr>\n",
       "      <th>0</th>\n",
       "      <td>&lt;18</td>\n",
       "      <td>NONE</td>\n",
       "      <td>149323</td>\n",
       "    </tr>\n",
       "    <tr>\n",
       "      <th>4</th>\n",
       "      <td>18-30</td>\n",
       "      <td>NONE</td>\n",
       "      <td>8579843</td>\n",
       "    </tr>\n",
       "    <tr>\n",
       "      <th>8</th>\n",
       "      <td>30-40</td>\n",
       "      <td>NONE</td>\n",
       "      <td>3337100</td>\n",
       "    </tr>\n",
       "    <tr>\n",
       "      <th>12</th>\n",
       "      <td>40-50</td>\n",
       "      <td>NONE</td>\n",
       "      <td>2852037</td>\n",
       "    </tr>\n",
       "    <tr>\n",
       "      <th>16</th>\n",
       "      <td>50-60</td>\n",
       "      <td>NONE</td>\n",
       "      <td>2464383</td>\n",
       "    </tr>\n",
       "    <tr>\n",
       "      <th>21</th>\n",
       "      <td>60+</td>\n",
       "      <td>NONE</td>\n",
       "      <td>542733</td>\n",
       "    </tr>\n",
       "  </tbody>\n",
       "</table>\n",
       "</div>"
      ],
      "text/plain": [
       "   AgeGroup fashion_news_frequency    count\n",
       "0       <18                   NONE   149323\n",
       "4     18-30                   NONE  8579843\n",
       "8     30-40                   NONE  3337100\n",
       "12    40-50                   NONE  2852037\n",
       "16    50-60                   NONE  2464383\n",
       "21      60+                   NONE   542733"
      ]
     },
     "execution_count": 38,
     "metadata": {},
     "output_type": "execute_result"
    }
   ],
   "source": [
    "communication_by_age[communication_by_age['fashion_news_frequency']=='NONE']"
   ]
  },
  {
   "cell_type": "code",
   "execution_count": 39,
   "id": "f3813a47",
   "metadata": {
    "execution": {
     "iopub.execute_input": "2023-12-18T08:47:25.528892Z",
     "iopub.status.busy": "2023-12-18T08:47:25.528415Z",
     "iopub.status.idle": "2023-12-18T08:47:25.543656Z",
     "shell.execute_reply": "2023-12-18T08:47:25.542542Z"
    },
    "papermill": {
     "duration": 0.038691,
     "end_time": "2023-12-18T08:47:25.546246",
     "exception": false,
     "start_time": "2023-12-18T08:47:25.507555",
     "status": "completed"
    },
    "tags": []
   },
   "outputs": [
    {
     "data": {
      "text/html": [
       "<div>\n",
       "<style scoped>\n",
       "    .dataframe tbody tr th:only-of-type {\n",
       "        vertical-align: middle;\n",
       "    }\n",
       "\n",
       "    .dataframe tbody tr th {\n",
       "        vertical-align: top;\n",
       "    }\n",
       "\n",
       "    .dataframe thead th {\n",
       "        text-align: right;\n",
       "    }\n",
       "</style>\n",
       "<table border=\"1\" class=\"dataframe\">\n",
       "  <thead>\n",
       "    <tr style=\"text-align: right;\">\n",
       "      <th></th>\n",
       "      <th>AgeGroup</th>\n",
       "      <th>fashion_news_frequency</th>\n",
       "      <th>count</th>\n",
       "    </tr>\n",
       "  </thead>\n",
       "  <tbody>\n",
       "    <tr>\n",
       "      <th>1</th>\n",
       "      <td>&lt;18</td>\n",
       "      <td>Regularly</td>\n",
       "      <td>111072</td>\n",
       "    </tr>\n",
       "    <tr>\n",
       "      <th>5</th>\n",
       "      <td>18-30</td>\n",
       "      <td>Regularly</td>\n",
       "      <td>6034799</td>\n",
       "    </tr>\n",
       "    <tr>\n",
       "      <th>9</th>\n",
       "      <td>30-40</td>\n",
       "      <td>Regularly</td>\n",
       "      <td>2265903</td>\n",
       "    </tr>\n",
       "    <tr>\n",
       "      <th>13</th>\n",
       "      <td>40-50</td>\n",
       "      <td>Regularly</td>\n",
       "      <td>2339211</td>\n",
       "    </tr>\n",
       "    <tr>\n",
       "      <th>17</th>\n",
       "      <td>50-60</td>\n",
       "      <td>Regularly</td>\n",
       "      <td>2192440</td>\n",
       "    </tr>\n",
       "    <tr>\n",
       "      <th>20</th>\n",
       "      <td>60+</td>\n",
       "      <td>Regularly</td>\n",
       "      <td>640844</td>\n",
       "    </tr>\n",
       "  </tbody>\n",
       "</table>\n",
       "</div>"
      ],
      "text/plain": [
       "   AgeGroup fashion_news_frequency    count\n",
       "1       <18              Regularly   111072\n",
       "5     18-30              Regularly  6034799\n",
       "9     30-40              Regularly  2265903\n",
       "13    40-50              Regularly  2339211\n",
       "17    50-60              Regularly  2192440\n",
       "20      60+              Regularly   640844"
      ]
     },
     "execution_count": 39,
     "metadata": {},
     "output_type": "execute_result"
    }
   ],
   "source": [
    "communication_by_age[communication_by_age['fashion_news_frequency']=='Regularly']"
   ]
  },
  {
   "cell_type": "code",
   "execution_count": 40,
   "id": "8c93907c",
   "metadata": {
    "execution": {
     "iopub.execute_input": "2023-12-18T08:47:25.585940Z",
     "iopub.status.busy": "2023-12-18T08:47:25.585501Z",
     "iopub.status.idle": "2023-12-18T08:47:25.598452Z",
     "shell.execute_reply": "2023-12-18T08:47:25.596662Z"
    },
    "papermill": {
     "duration": 0.035814,
     "end_time": "2023-12-18T08:47:25.601293",
     "exception": false,
     "start_time": "2023-12-18T08:47:25.565479",
     "status": "completed"
    },
    "tags": []
   },
   "outputs": [
    {
     "data": {
      "text/html": [
       "<div>\n",
       "<style scoped>\n",
       "    .dataframe tbody tr th:only-of-type {\n",
       "        vertical-align: middle;\n",
       "    }\n",
       "\n",
       "    .dataframe tbody tr th {\n",
       "        vertical-align: top;\n",
       "    }\n",
       "\n",
       "    .dataframe thead th {\n",
       "        text-align: right;\n",
       "    }\n",
       "</style>\n",
       "<table border=\"1\" class=\"dataframe\">\n",
       "  <thead>\n",
       "    <tr style=\"text-align: right;\">\n",
       "      <th></th>\n",
       "      <th>AgeGroup</th>\n",
       "      <th>fashion_news_frequency</th>\n",
       "      <th>count</th>\n",
       "    </tr>\n",
       "  </thead>\n",
       "  <tbody>\n",
       "    <tr>\n",
       "      <th>3</th>\n",
       "      <td>&lt;18</td>\n",
       "      <td>Monthly</td>\n",
       "      <td>0</td>\n",
       "    </tr>\n",
       "    <tr>\n",
       "      <th>7</th>\n",
       "      <td>18-30</td>\n",
       "      <td>Monthly</td>\n",
       "      <td>3828</td>\n",
       "    </tr>\n",
       "    <tr>\n",
       "      <th>11</th>\n",
       "      <td>30-40</td>\n",
       "      <td>Monthly</td>\n",
       "      <td>2295</td>\n",
       "    </tr>\n",
       "    <tr>\n",
       "      <th>15</th>\n",
       "      <td>40-50</td>\n",
       "      <td>Monthly</td>\n",
       "      <td>1655</td>\n",
       "    </tr>\n",
       "    <tr>\n",
       "      <th>19</th>\n",
       "      <td>50-60</td>\n",
       "      <td>Monthly</td>\n",
       "      <td>1861</td>\n",
       "    </tr>\n",
       "    <tr>\n",
       "      <th>23</th>\n",
       "      <td>60+</td>\n",
       "      <td>Monthly</td>\n",
       "      <td>663</td>\n",
       "    </tr>\n",
       "  </tbody>\n",
       "</table>\n",
       "</div>"
      ],
      "text/plain": [
       "   AgeGroup fashion_news_frequency  count\n",
       "3       <18                Monthly      0\n",
       "7     18-30                Monthly   3828\n",
       "11    30-40                Monthly   2295\n",
       "15    40-50                Monthly   1655\n",
       "19    50-60                Monthly   1861\n",
       "23      60+                Monthly    663"
      ]
     },
     "execution_count": 40,
     "metadata": {},
     "output_type": "execute_result"
    }
   ],
   "source": [
    "communication_by_age[communication_by_age['fashion_news_frequency']=='Monthly']"
   ]
  },
  {
   "cell_type": "code",
   "execution_count": 41,
   "id": "10355a8b",
   "metadata": {
    "execution": {
     "iopub.execute_input": "2023-12-18T08:47:25.639354Z",
     "iopub.status.busy": "2023-12-18T08:47:25.638921Z",
     "iopub.status.idle": "2023-12-18T08:47:25.645681Z",
     "shell.execute_reply": "2023-12-18T08:47:25.644730Z"
    },
    "papermill": {
     "duration": 0.028154,
     "end_time": "2023-12-18T08:47:25.647623",
     "exception": false,
     "start_time": "2023-12-18T08:47:25.619469",
     "status": "completed"
    },
    "tags": []
   },
   "outputs": [],
   "source": [
    "spending_by_age_group = spending_by_age_group.reset_index()"
   ]
  },
  {
   "cell_type": "code",
   "execution_count": 42,
   "id": "a1ab647f",
   "metadata": {
    "execution": {
     "iopub.execute_input": "2023-12-18T08:47:25.686091Z",
     "iopub.status.busy": "2023-12-18T08:47:25.685669Z",
     "iopub.status.idle": "2023-12-18T08:47:25.697283Z",
     "shell.execute_reply": "2023-12-18T08:47:25.696146Z"
    },
    "papermill": {
     "duration": 0.034021,
     "end_time": "2023-12-18T08:47:25.699647",
     "exception": false,
     "start_time": "2023-12-18T08:47:25.665626",
     "status": "completed"
    },
    "tags": []
   },
   "outputs": [
    {
     "data": {
      "text/html": [
       "<div>\n",
       "<style scoped>\n",
       "    .dataframe tbody tr th:only-of-type {\n",
       "        vertical-align: middle;\n",
       "    }\n",
       "\n",
       "    .dataframe tbody tr th {\n",
       "        vertical-align: top;\n",
       "    }\n",
       "\n",
       "    .dataframe thead th {\n",
       "        text-align: right;\n",
       "    }\n",
       "</style>\n",
       "<table border=\"1\" class=\"dataframe\">\n",
       "  <thead>\n",
       "    <tr style=\"text-align: right;\">\n",
       "      <th></th>\n",
       "      <th>AgeGroup</th>\n",
       "      <th>price</th>\n",
       "    </tr>\n",
       "  </thead>\n",
       "  <tbody>\n",
       "    <tr>\n",
       "      <th>0</th>\n",
       "      <td>&lt;18</td>\n",
       "      <td>0.303390</td>\n",
       "    </tr>\n",
       "    <tr>\n",
       "      <th>1</th>\n",
       "      <td>18-30</td>\n",
       "      <td>0.591525</td>\n",
       "    </tr>\n",
       "    <tr>\n",
       "      <th>2</th>\n",
       "      <td>30-40</td>\n",
       "      <td>0.591525</td>\n",
       "    </tr>\n",
       "    <tr>\n",
       "      <th>3</th>\n",
       "      <td>40-50</td>\n",
       "      <td>0.591525</td>\n",
       "    </tr>\n",
       "    <tr>\n",
       "      <th>4</th>\n",
       "      <td>50-60</td>\n",
       "      <td>0.591525</td>\n",
       "    </tr>\n",
       "    <tr>\n",
       "      <th>5</th>\n",
       "      <td>60+</td>\n",
       "      <td>0.506780</td>\n",
       "    </tr>\n",
       "  </tbody>\n",
       "</table>\n",
       "</div>"
      ],
      "text/plain": [
       "  AgeGroup     price\n",
       "0      <18  0.303390\n",
       "1    18-30  0.591525\n",
       "2    30-40  0.591525\n",
       "3    40-50  0.591525\n",
       "4    50-60  0.591525\n",
       "5      60+  0.506780"
      ]
     },
     "execution_count": 42,
     "metadata": {},
     "output_type": "execute_result"
    }
   ],
   "source": [
    "spending_by_age_group"
   ]
  },
  {
   "cell_type": "code",
   "execution_count": 43,
   "id": "be1364cb",
   "metadata": {
    "execution": {
     "iopub.execute_input": "2023-12-18T08:47:25.738594Z",
     "iopub.status.busy": "2023-12-18T08:47:25.738188Z",
     "iopub.status.idle": "2023-12-18T08:47:25.815938Z",
     "shell.execute_reply": "2023-12-18T08:47:25.814651Z"
    },
    "papermill": {
     "duration": 0.100766,
     "end_time": "2023-12-18T08:47:25.818886",
     "exception": false,
     "start_time": "2023-12-18T08:47:25.718120",
     "status": "completed"
    },
    "tags": []
   },
   "outputs": [
    {
     "data": {
      "text/html": [
       "<div>                            <div id=\"24ecd32e-f166-42ac-99f6-dcb40035d037\" class=\"plotly-graph-div\" style=\"height:525px; width:100%;\"></div>            <script type=\"text/javascript\">                require([\"plotly\"], function(Plotly) {                    window.PLOTLYENV=window.PLOTLYENV || {};                                    if (document.getElementById(\"24ecd32e-f166-42ac-99f6-dcb40035d037\")) {                    Plotly.newPlot(                        \"24ecd32e-f166-42ac-99f6-dcb40035d037\",                        [{\"domain\":{\"x\":[0.0,1.0],\"y\":[0.0,1.0]},\"hole\":0.7,\"hovertemplate\":\"AgeGroup=%{label}\\u003cbr\\u003eprice=%{value}\\u003cextra\\u003e\\u003c\\u002fextra\\u003e\",\"labels\":[\"\\u003c18\",\"18-30\",\"30-40\",\"40-50\",\"50-60\",\"60+\"],\"legendgroup\":\"\",\"name\":\"\",\"showlegend\":true,\"values\":[0.3033898305084745,0.5915254237288136,0.5915254237288136,0.5915254237288136,0.5915254237288136,0.5067796610169492],\"type\":\"pie\"}],                        {\"template\":{\"data\":{\"histogram2dcontour\":[{\"type\":\"histogram2dcontour\",\"colorbar\":{\"outlinewidth\":0,\"ticks\":\"\"},\"colorscale\":[[0.0,\"#0d0887\"],[0.1111111111111111,\"#46039f\"],[0.2222222222222222,\"#7201a8\"],[0.3333333333333333,\"#9c179e\"],[0.4444444444444444,\"#bd3786\"],[0.5555555555555556,\"#d8576b\"],[0.6666666666666666,\"#ed7953\"],[0.7777777777777778,\"#fb9f3a\"],[0.8888888888888888,\"#fdca26\"],[1.0,\"#f0f921\"]]}],\"choropleth\":[{\"type\":\"choropleth\",\"colorbar\":{\"outlinewidth\":0,\"ticks\":\"\"}}],\"histogram2d\":[{\"type\":\"histogram2d\",\"colorbar\":{\"outlinewidth\":0,\"ticks\":\"\"},\"colorscale\":[[0.0,\"#0d0887\"],[0.1111111111111111,\"#46039f\"],[0.2222222222222222,\"#7201a8\"],[0.3333333333333333,\"#9c179e\"],[0.4444444444444444,\"#bd3786\"],[0.5555555555555556,\"#d8576b\"],[0.6666666666666666,\"#ed7953\"],[0.7777777777777778,\"#fb9f3a\"],[0.8888888888888888,\"#fdca26\"],[1.0,\"#f0f921\"]]}],\"heatmap\":[{\"type\":\"heatmap\",\"colorbar\":{\"outlinewidth\":0,\"ticks\":\"\"},\"colorscale\":[[0.0,\"#0d0887\"],[0.1111111111111111,\"#46039f\"],[0.2222222222222222,\"#7201a8\"],[0.3333333333333333,\"#9c179e\"],[0.4444444444444444,\"#bd3786\"],[0.5555555555555556,\"#d8576b\"],[0.6666666666666666,\"#ed7953\"],[0.7777777777777778,\"#fb9f3a\"],[0.8888888888888888,\"#fdca26\"],[1.0,\"#f0f921\"]]}],\"heatmapgl\":[{\"type\":\"heatmapgl\",\"colorbar\":{\"outlinewidth\":0,\"ticks\":\"\"},\"colorscale\":[[0.0,\"#0d0887\"],[0.1111111111111111,\"#46039f\"],[0.2222222222222222,\"#7201a8\"],[0.3333333333333333,\"#9c179e\"],[0.4444444444444444,\"#bd3786\"],[0.5555555555555556,\"#d8576b\"],[0.6666666666666666,\"#ed7953\"],[0.7777777777777778,\"#fb9f3a\"],[0.8888888888888888,\"#fdca26\"],[1.0,\"#f0f921\"]]}],\"contourcarpet\":[{\"type\":\"contourcarpet\",\"colorbar\":{\"outlinewidth\":0,\"ticks\":\"\"}}],\"contour\":[{\"type\":\"contour\",\"colorbar\":{\"outlinewidth\":0,\"ticks\":\"\"},\"colorscale\":[[0.0,\"#0d0887\"],[0.1111111111111111,\"#46039f\"],[0.2222222222222222,\"#7201a8\"],[0.3333333333333333,\"#9c179e\"],[0.4444444444444444,\"#bd3786\"],[0.5555555555555556,\"#d8576b\"],[0.6666666666666666,\"#ed7953\"],[0.7777777777777778,\"#fb9f3a\"],[0.8888888888888888,\"#fdca26\"],[1.0,\"#f0f921\"]]}],\"surface\":[{\"type\":\"surface\",\"colorbar\":{\"outlinewidth\":0,\"ticks\":\"\"},\"colorscale\":[[0.0,\"#0d0887\"],[0.1111111111111111,\"#46039f\"],[0.2222222222222222,\"#7201a8\"],[0.3333333333333333,\"#9c179e\"],[0.4444444444444444,\"#bd3786\"],[0.5555555555555556,\"#d8576b\"],[0.6666666666666666,\"#ed7953\"],[0.7777777777777778,\"#fb9f3a\"],[0.8888888888888888,\"#fdca26\"],[1.0,\"#f0f921\"]]}],\"mesh3d\":[{\"type\":\"mesh3d\",\"colorbar\":{\"outlinewidth\":0,\"ticks\":\"\"}}],\"scatter\":[{\"fillpattern\":{\"fillmode\":\"overlay\",\"size\":10,\"solidity\":0.2},\"type\":\"scatter\"}],\"parcoords\":[{\"type\":\"parcoords\",\"line\":{\"colorbar\":{\"outlinewidth\":0,\"ticks\":\"\"}}}],\"scatterpolargl\":[{\"type\":\"scatterpolargl\",\"marker\":{\"colorbar\":{\"outlinewidth\":0,\"ticks\":\"\"}}}],\"bar\":[{\"error_x\":{\"color\":\"#2a3f5f\"},\"error_y\":{\"color\":\"#2a3f5f\"},\"marker\":{\"line\":{\"color\":\"#E5ECF6\",\"width\":0.5},\"pattern\":{\"fillmode\":\"overlay\",\"size\":10,\"solidity\":0.2}},\"type\":\"bar\"}],\"scattergeo\":[{\"type\":\"scattergeo\",\"marker\":{\"colorbar\":{\"outlinewidth\":0,\"ticks\":\"\"}}}],\"scatterpolar\":[{\"type\":\"scatterpolar\",\"marker\":{\"colorbar\":{\"outlinewidth\":0,\"ticks\":\"\"}}}],\"histogram\":[{\"marker\":{\"pattern\":{\"fillmode\":\"overlay\",\"size\":10,\"solidity\":0.2}},\"type\":\"histogram\"}],\"scattergl\":[{\"type\":\"scattergl\",\"marker\":{\"colorbar\":{\"outlinewidth\":0,\"ticks\":\"\"}}}],\"scatter3d\":[{\"type\":\"scatter3d\",\"line\":{\"colorbar\":{\"outlinewidth\":0,\"ticks\":\"\"}},\"marker\":{\"colorbar\":{\"outlinewidth\":0,\"ticks\":\"\"}}}],\"scattermapbox\":[{\"type\":\"scattermapbox\",\"marker\":{\"colorbar\":{\"outlinewidth\":0,\"ticks\":\"\"}}}],\"scatterternary\":[{\"type\":\"scatterternary\",\"marker\":{\"colorbar\":{\"outlinewidth\":0,\"ticks\":\"\"}}}],\"scattercarpet\":[{\"type\":\"scattercarpet\",\"marker\":{\"colorbar\":{\"outlinewidth\":0,\"ticks\":\"\"}}}],\"carpet\":[{\"aaxis\":{\"endlinecolor\":\"#2a3f5f\",\"gridcolor\":\"white\",\"linecolor\":\"white\",\"minorgridcolor\":\"white\",\"startlinecolor\":\"#2a3f5f\"},\"baxis\":{\"endlinecolor\":\"#2a3f5f\",\"gridcolor\":\"white\",\"linecolor\":\"white\",\"minorgridcolor\":\"white\",\"startlinecolor\":\"#2a3f5f\"},\"type\":\"carpet\"}],\"table\":[{\"cells\":{\"fill\":{\"color\":\"#EBF0F8\"},\"line\":{\"color\":\"white\"}},\"header\":{\"fill\":{\"color\":\"#C8D4E3\"},\"line\":{\"color\":\"white\"}},\"type\":\"table\"}],\"barpolar\":[{\"marker\":{\"line\":{\"color\":\"#E5ECF6\",\"width\":0.5},\"pattern\":{\"fillmode\":\"overlay\",\"size\":10,\"solidity\":0.2}},\"type\":\"barpolar\"}],\"pie\":[{\"automargin\":true,\"type\":\"pie\"}]},\"layout\":{\"autotypenumbers\":\"strict\",\"colorway\":[\"#636efa\",\"#EF553B\",\"#00cc96\",\"#ab63fa\",\"#FFA15A\",\"#19d3f3\",\"#FF6692\",\"#B6E880\",\"#FF97FF\",\"#FECB52\"],\"font\":{\"color\":\"#2a3f5f\"},\"hovermode\":\"closest\",\"hoverlabel\":{\"align\":\"left\"},\"paper_bgcolor\":\"white\",\"plot_bgcolor\":\"#E5ECF6\",\"polar\":{\"bgcolor\":\"#E5ECF6\",\"angularaxis\":{\"gridcolor\":\"white\",\"linecolor\":\"white\",\"ticks\":\"\"},\"radialaxis\":{\"gridcolor\":\"white\",\"linecolor\":\"white\",\"ticks\":\"\"}},\"ternary\":{\"bgcolor\":\"#E5ECF6\",\"aaxis\":{\"gridcolor\":\"white\",\"linecolor\":\"white\",\"ticks\":\"\"},\"baxis\":{\"gridcolor\":\"white\",\"linecolor\":\"white\",\"ticks\":\"\"},\"caxis\":{\"gridcolor\":\"white\",\"linecolor\":\"white\",\"ticks\":\"\"}},\"coloraxis\":{\"colorbar\":{\"outlinewidth\":0,\"ticks\":\"\"}},\"colorscale\":{\"sequential\":[[0.0,\"#0d0887\"],[0.1111111111111111,\"#46039f\"],[0.2222222222222222,\"#7201a8\"],[0.3333333333333333,\"#9c179e\"],[0.4444444444444444,\"#bd3786\"],[0.5555555555555556,\"#d8576b\"],[0.6666666666666666,\"#ed7953\"],[0.7777777777777778,\"#fb9f3a\"],[0.8888888888888888,\"#fdca26\"],[1.0,\"#f0f921\"]],\"sequentialminus\":[[0.0,\"#0d0887\"],[0.1111111111111111,\"#46039f\"],[0.2222222222222222,\"#7201a8\"],[0.3333333333333333,\"#9c179e\"],[0.4444444444444444,\"#bd3786\"],[0.5555555555555556,\"#d8576b\"],[0.6666666666666666,\"#ed7953\"],[0.7777777777777778,\"#fb9f3a\"],[0.8888888888888888,\"#fdca26\"],[1.0,\"#f0f921\"]],\"diverging\":[[0,\"#8e0152\"],[0.1,\"#c51b7d\"],[0.2,\"#de77ae\"],[0.3,\"#f1b6da\"],[0.4,\"#fde0ef\"],[0.5,\"#f7f7f7\"],[0.6,\"#e6f5d0\"],[0.7,\"#b8e186\"],[0.8,\"#7fbc41\"],[0.9,\"#4d9221\"],[1,\"#276419\"]]},\"xaxis\":{\"gridcolor\":\"white\",\"linecolor\":\"white\",\"ticks\":\"\",\"title\":{\"standoff\":15},\"zerolinecolor\":\"white\",\"automargin\":true,\"zerolinewidth\":2},\"yaxis\":{\"gridcolor\":\"white\",\"linecolor\":\"white\",\"ticks\":\"\",\"title\":{\"standoff\":15},\"zerolinecolor\":\"white\",\"automargin\":true,\"zerolinewidth\":2},\"scene\":{\"xaxis\":{\"backgroundcolor\":\"#E5ECF6\",\"gridcolor\":\"white\",\"linecolor\":\"white\",\"showbackground\":true,\"ticks\":\"\",\"zerolinecolor\":\"white\",\"gridwidth\":2},\"yaxis\":{\"backgroundcolor\":\"#E5ECF6\",\"gridcolor\":\"white\",\"linecolor\":\"white\",\"showbackground\":true,\"ticks\":\"\",\"zerolinecolor\":\"white\",\"gridwidth\":2},\"zaxis\":{\"backgroundcolor\":\"#E5ECF6\",\"gridcolor\":\"white\",\"linecolor\":\"white\",\"showbackground\":true,\"ticks\":\"\",\"zerolinecolor\":\"white\",\"gridwidth\":2}},\"shapedefaults\":{\"line\":{\"color\":\"#2a3f5f\"}},\"annotationdefaults\":{\"arrowcolor\":\"#2a3f5f\",\"arrowhead\":0,\"arrowwidth\":1},\"geo\":{\"bgcolor\":\"white\",\"landcolor\":\"#E5ECF6\",\"subunitcolor\":\"white\",\"showland\":true,\"showlakes\":true,\"lakecolor\":\"white\"},\"title\":{\"x\":0.05},\"mapbox\":{\"style\":\"light\"}}},\"legend\":{\"tracegroupgap\":0},\"title\":{\"text\":\"Spending by Age Group\"},\"piecolorway\":[\"#FF5733\",\"#FF7043\",\"#FF8566\",\"#FFA07A\",\"#FFC0A9\"]},                        {\"responsive\": true}                    ).then(function(){\n",
       "                            \n",
       "var gd = document.getElementById('24ecd32e-f166-42ac-99f6-dcb40035d037');\n",
       "var x = new MutationObserver(function (mutations, observer) {{\n",
       "        var display = window.getComputedStyle(gd).display;\n",
       "        if (!display || display === 'none') {{\n",
       "            console.log([gd, 'removed!']);\n",
       "            Plotly.purge(gd);\n",
       "            observer.disconnect();\n",
       "        }}\n",
       "}});\n",
       "\n",
       "// Listen for the removal of the full notebook cells\n",
       "var notebookContainer = gd.closest('#notebook-container');\n",
       "if (notebookContainer) {{\n",
       "    x.observe(notebookContainer, {childList: true});\n",
       "}}\n",
       "\n",
       "// Listen for the clearing of the current output cell\n",
       "var outputEl = gd.closest('.output');\n",
       "if (outputEl) {{\n",
       "    x.observe(outputEl, {childList: true});\n",
       "}}\n",
       "\n",
       "                        })                };                });            </script>        </div>"
      ]
     },
     "metadata": {},
     "output_type": "display_data"
    }
   ],
   "source": [
    "custom_color_sequence = ['#FF5733', '#FF7043', '#FF8566', '#FFA07A', '#FFC0A9']\n",
    "\n",
    "#Create the pie chart with the custom color sequence\n",
    "fig = px.pie(spending_by_age_group, names='AgeGroup', values='price', hole=0.7, title=\"Spending by Age Group\",\n",
    "             color_discrete_sequence=custom_color_sequence)\n",
    "\n",
    "#Show the donut chart\n",
    "fig.show()"
   ]
  },
  {
   "cell_type": "code",
   "execution_count": 44,
   "id": "afa3af2c",
   "metadata": {
    "execution": {
     "iopub.execute_input": "2023-12-18T08:47:25.859637Z",
     "iopub.status.busy": "2023-12-18T08:47:25.858855Z",
     "iopub.status.idle": "2023-12-18T08:47:26.082934Z",
     "shell.execute_reply": "2023-12-18T08:47:26.081844Z"
    },
    "papermill": {
     "duration": 0.247482,
     "end_time": "2023-12-18T08:47:26.085470",
     "exception": false,
     "start_time": "2023-12-18T08:47:25.837988",
     "status": "completed"
    },
    "tags": []
   },
   "outputs": [
    {
     "data": {
      "text/plain": [
       "1489"
      ]
     },
     "execution_count": 44,
     "metadata": {},
     "output_type": "execute_result"
    }
   ],
   "source": [
    "del communication_by_age\n",
    "del spending_by_age_group\n",
    "del fig\n",
    "gc.collect()"
   ]
  },
  {
   "cell_type": "markdown",
   "id": "666718ae",
   "metadata": {
    "papermill": {
     "duration": 0.018162,
     "end_time": "2023-12-18T08:47:26.121897",
     "exception": false,
     "start_time": "2023-12-18T08:47:26.103735",
     "status": "completed"
    },
    "tags": []
   },
   "source": [
    "Hypothesis: Highest selling colors in each product category and is it significantly higher than others YoY basis.\n",
    "\n",
    "Testing: Conduct ANOVA to compare the perceived color values of products across different departments."
   ]
  },
  {
   "cell_type": "code",
   "execution_count": 45,
   "id": "9e1b6de2",
   "metadata": {
    "execution": {
     "iopub.execute_input": "2023-12-18T08:47:26.161162Z",
     "iopub.status.busy": "2023-12-18T08:47:26.160682Z",
     "iopub.status.idle": "2023-12-18T08:47:32.172371Z",
     "shell.execute_reply": "2023-12-18T08:47:32.170279Z"
    },
    "papermill": {
     "duration": 6.034502,
     "end_time": "2023-12-18T08:47:32.175381",
     "exception": false,
     "start_time": "2023-12-18T08:47:26.140879",
     "status": "completed"
    },
    "tags": []
   },
   "outputs": [
    {
     "name": "stdout",
     "output_type": "stream",
     "text": [
      "ANOVA F-statistic: 6.359940023287398\n",
      "P-value: 2.345466277342273e-152\n",
      "Reject the null hypothesis. There are significant differences in perceived color values between departments.\n"
     ]
    }
   ],
   "source": [
    "#Group the data by department, color, and year and calculate the sales or revenue\n",
    "grouped_data = merged_df.groupby(['department_name', 'perceived_colour_value_name', 'year'])['price'].sum().reset_index()\n",
    "\n",
    "#Perform the ANOVA\n",
    "result = stats.f_oneway(*[grouped_data[grouped_data['department_name'] == department]['price'] for department in grouped_data['department_name'].unique()])\n",
    "\n",
    "#Define significance level (alpha)\n",
    "alpha = 0.05\n",
    "\n",
    "#Print the results\n",
    "print(\"ANOVA F-statistic:\", result.statistic)\n",
    "print(\"P-value:\", result.pvalue)\n",
    "\n",
    "#Compare the p-value to the significance level\n",
    "if result.pvalue < alpha:\n",
    "    print(\"Reject the null hypothesis. There are significant differences in perceived color values between departments.\")\n",
    "else:\n",
    "    print(\"Fail to reject the null hypothesis. There are no significant differences in perceived color values between departments.\")"
   ]
  },
  {
   "cell_type": "code",
   "execution_count": 46,
   "id": "5a0d6dfc",
   "metadata": {
    "execution": {
     "iopub.execute_input": "2023-12-18T08:47:32.214353Z",
     "iopub.status.busy": "2023-12-18T08:47:32.213937Z",
     "iopub.status.idle": "2023-12-18T08:47:32.457250Z",
     "shell.execute_reply": "2023-12-18T08:47:32.455550Z"
    },
    "papermill": {
     "duration": 0.266465,
     "end_time": "2023-12-18T08:47:32.460303",
     "exception": false,
     "start_time": "2023-12-18T08:47:32.193838",
     "status": "completed"
    },
    "tags": []
   },
   "outputs": [
    {
     "data": {
      "text/plain": [
       "0"
      ]
     },
     "execution_count": 46,
     "metadata": {},
     "output_type": "execute_result"
    }
   ],
   "source": [
    "del grouped_data\n",
    "del result\n",
    "gc.collect()"
   ]
  },
  {
   "cell_type": "markdown",
   "id": "ca8ce07d",
   "metadata": {
    "papermill": {
     "duration": 0.019473,
     "end_time": "2023-12-18T08:47:32.498623",
     "exception": false,
     "start_time": "2023-12-18T08:47:32.479150",
     "status": "completed"
    },
    "tags": []
   },
   "source": [
    "Hypothesis: Customers in different age groups have significantly different purchase patterns in terms of product types.\n",
    "\n",
    "Testing: Perform chi-squared tests to examine the association between age groups and product types."
   ]
  },
  {
   "cell_type": "code",
   "execution_count": 47,
   "id": "a4d15561",
   "metadata": {
    "execution": {
     "iopub.execute_input": "2023-12-18T08:47:32.539800Z",
     "iopub.status.busy": "2023-12-18T08:47:32.539257Z",
     "iopub.status.idle": "2023-12-18T08:47:39.959340Z",
     "shell.execute_reply": "2023-12-18T08:47:39.957011Z"
    },
    "papermill": {
     "duration": 7.444004,
     "end_time": "2023-12-18T08:47:39.962108",
     "exception": false,
     "start_time": "2023-12-18T08:47:32.518104",
     "status": "completed"
    },
    "tags": []
   },
   "outputs": [
    {
     "name": "stdout",
     "output_type": "stream",
     "text": [
      "Chi-Squared Statistic: 638533.2233544085\n",
      "P-value: 0.0\n",
      "Reject the null hypothesis. There is a significant association between age groups and product types.\n"
     ]
    }
   ],
   "source": [
    "#Create a contingency table of age groups and product types\n",
    "contingency_table = pd.crosstab(merged_df['AgeGroup'], merged_df['product_type_name'])\n",
    "\n",
    "#Perform the chi-squared test\n",
    "chi2, p, _, _ = chi2_contingency(contingency_table)\n",
    "\n",
    "#Define significance level (alpha)\n",
    "alpha = 0.05\n",
    "\n",
    "#Print the results\n",
    "print(\"Chi-Squared Statistic:\", chi2)\n",
    "print(\"P-value:\", p)\n",
    "\n",
    "#Compare the p-value to the significance level\n",
    "if p < alpha:\n",
    "    print(\"Reject the null hypothesis. There is a significant association between age groups and product types.\")\n",
    "else:\n",
    "    print(\"Fail to reject the null hypothesis. There is no significant association between age groups and product types.\")"
   ]
  },
  {
   "cell_type": "code",
   "execution_count": 48,
   "id": "0c64fe9f",
   "metadata": {
    "execution": {
     "iopub.execute_input": "2023-12-18T08:47:40.004155Z",
     "iopub.status.busy": "2023-12-18T08:47:40.003291Z",
     "iopub.status.idle": "2023-12-18T08:47:40.229132Z",
     "shell.execute_reply": "2023-12-18T08:47:40.227485Z"
    },
    "papermill": {
     "duration": 0.249109,
     "end_time": "2023-12-18T08:47:40.231734",
     "exception": false,
     "start_time": "2023-12-18T08:47:39.982625",
     "status": "completed"
    },
    "tags": []
   },
   "outputs": [
    {
     "data": {
      "text/plain": [
       "0"
      ]
     },
     "execution_count": 48,
     "metadata": {},
     "output_type": "execute_result"
    }
   ],
   "source": [
    "del contingency_table\n",
    "gc.collect()"
   ]
  },
  {
   "cell_type": "markdown",
   "id": "3f23c1cc",
   "metadata": {
    "papermill": {
     "duration": 0.019175,
     "end_time": "2023-12-18T08:47:40.270825",
     "exception": false,
     "start_time": "2023-12-18T08:47:40.251650",
     "status": "completed"
    },
    "tags": []
   },
   "source": [
    "Hypothesis: Club members (club_member_status = 'ACTIVE') have a higher customer lifetime value (CLV) compared to non-club members.\n",
    "\n",
    "Testing: Conduct a t-test or ANOVA to compare CLV between club members and non-club members."
   ]
  },
  {
   "cell_type": "code",
   "execution_count": 49,
   "id": "8e58b1ba",
   "metadata": {
    "execution": {
     "iopub.execute_input": "2023-12-18T08:47:40.310535Z",
     "iopub.status.busy": "2023-12-18T08:47:40.310145Z",
     "iopub.status.idle": "2023-12-18T08:48:03.115904Z",
     "shell.execute_reply": "2023-12-18T08:48:03.113887Z"
    },
    "papermill": {
     "duration": 22.829488,
     "end_time": "2023-12-18T08:48:03.119100",
     "exception": false,
     "start_time": "2023-12-18T08:47:40.289612",
     "status": "completed"
    },
    "tags": []
   },
   "outputs": [],
   "source": [
    "clv_data =merged_df.groupby('customer_id')['price'].sum().reset_index()\n",
    "clv_data.rename(columns={'price': 'historical_CLV'}, inplace=True)\n",
    "\n",
    "merged_df = merged_df.merge(clv_data, on='customer_id', how='left')"
   ]
  },
  {
   "cell_type": "code",
   "execution_count": 50,
   "id": "32e2fe30",
   "metadata": {
    "execution": {
     "iopub.execute_input": "2023-12-18T08:48:03.163036Z",
     "iopub.status.busy": "2023-12-18T08:48:03.162580Z",
     "iopub.status.idle": "2023-12-18T08:48:17.368116Z",
     "shell.execute_reply": "2023-12-18T08:48:17.366991Z"
    },
    "papermill": {
     "duration": 14.231373,
     "end_time": "2023-12-18T08:48:17.371168",
     "exception": false,
     "start_time": "2023-12-18T08:48:03.139795",
     "status": "completed"
    },
    "tags": []
   },
   "outputs": [
    {
     "name": "stdout",
     "output_type": "stream",
     "text": [
      "T-Statistic: 448.63280034609613\n",
      "P-value: 0.0\n",
      "Reject the null hypothesis. Club members with 'ACTIVE' status have a higher CLV.\n"
     ]
    }
   ],
   "source": [
    "#Separate data into two groups: 'ACTIVE' club members and non-club members\n",
    "club_members = merged_df[merged_df['club_member_status'] == 'ACTIVE']\n",
    "non_club_members = merged_df[merged_df['club_member_status'] != 'ACTIVE']\n",
    "\n",
    "#Perform a t-test to compare CLV between the two groups\n",
    "t_stat, p_value = stats.ttest_ind(club_members['historical_CLV'], non_club_members['historical_CLV'])\n",
    "\n",
    "#Define significance level (alpha)\n",
    "alpha = 0.05\n",
    "\n",
    "#Print the results\n",
    "print(\"T-Statistic:\", t_stat)\n",
    "print(\"P-value:\", p_value)\n",
    "\n",
    "#Compare the p-value to the significance level\n",
    "if p_value < alpha:\n",
    "    print(\"Reject the null hypothesis. Club members with 'ACTIVE' status have a higher CLV.\")\n",
    "else:\n",
    "    print(\"Fail to reject the null hypothesis. There is no significant difference in CLV.\")"
   ]
  }
 ],
 "metadata": {
  "kaggle": {
   "accelerator": "none",
   "dataSources": [
    {
     "databundleVersionId": 3103714,
     "sourceId": 31254,
     "sourceType": "competition"
    }
   ],
   "dockerImageVersionId": 30626,
   "isGpuEnabled": false,
   "isInternetEnabled": true,
   "language": "python",
   "sourceType": "notebook"
  },
  "kernelspec": {
   "display_name": "Python 3",
   "language": "python",
   "name": "python3"
  },
  "language_info": {
   "codemirror_mode": {
    "name": "ipython",
    "version": 3
   },
   "file_extension": ".py",
   "mimetype": "text/x-python",
   "name": "python",
   "nbconvert_exporter": "python",
   "pygments_lexer": "ipython3",
   "version": "3.10.12"
  },
  "papermill": {
   "default_parameters": {},
   "duration": 564.877421,
   "end_time": "2023-12-18T08:48:20.416682",
   "environment_variables": {},
   "exception": null,
   "input_path": "__notebook__.ipynb",
   "output_path": "__notebook__.ipynb",
   "parameters": {},
   "start_time": "2023-12-18T08:38:55.539261",
   "version": "2.4.0"
  }
 },
 "nbformat": 4,
 "nbformat_minor": 5
}
